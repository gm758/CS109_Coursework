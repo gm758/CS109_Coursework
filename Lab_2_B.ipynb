{
 "metadata": {
  "name": "",
  "signature": "sha256:c1b5944899e9ebe2139449aeff7ca7663401c3e88900e49ff322b4ac27452fd1"
 },
 "nbformat": 3,
 "nbformat_minor": 0,
 "worksheets": [
  {
   "cells": [
    {
     "cell_type": "code",
     "collapsed": false,
     "input": [
      "# Setup\n",
      "import pattern.web as web\n",
      "import pandas as pd\n",
      "import numpy as np\n",
      "import matplotlib.pyplot as plt\n",
      "\n",
      "from cs109style import customize_mpl, customize_css\n",
      "customize_mpl()\n",
      "customize_css()\n",
      "%pylab inline"
     ],
     "language": "python",
     "metadata": {},
     "outputs": [
      {
       "output_type": "stream",
       "stream": "stdout",
       "text": [
        "Setting custom matplotlib visual style\n",
        "Setting custom CSS for the IPython Notebook\n",
        "Populating the interactive namespace from numpy and matplotlib\n"
       ]
      }
     ],
     "prompt_number": 1
    },
    {
     "cell_type": "markdown",
     "metadata": {},
     "source": [
      "## Example 2: extracting reddit titles, upvotes, downvotes, and submission time\n",
      "\n",
      "### We'll operate in two phases:\n",
      "* first, find all the URLs to comment pages on the first few front pages of reddit.\n",
      "* second, extract information from each comments page"
     ]
    },
    {
     "cell_type": "code",
     "collapsed": false,
     "input": [
      "def get_links_from_front_pages(n):\n",
      "    'find  URLs of comments pages, linked from the n first few pages of reddit'\n",
      "    url = web.URL('http://www.reddit.com/')\n",
      "    comment_pages = []\n",
      "    for page_idx in range(n):\n",
      "        dom = web.DOM(url.download(cached=False))\n",
      "    \n",
      "        for entry in dom('a.comments'):\n",
      "            href = entry.attributes.get('href', '')\n",
      "            if href:\n",
      "                comment_pages.append(href)\n",
      "                \n",
      "        # find the next page link - reddit has 25 links per page\n",
      "        for a in dom('a'):\n",
      "            if ('count=%d' % ((page_idx + 1) * 25)) in a.attributes.get('href', ''):\n",
      "                url = web.URL(a.attributes.get('href'))\n",
      "    # use set() to remove repeated pages\n",
      "    return list(set(comment_pages))\n",
      "\n",
      "            \n",
      "print len(get_links_from_front_pages(6))"
     ],
     "language": "python",
     "metadata": {},
     "outputs": [
      {
       "output_type": "stream",
       "stream": "stdout",
       "text": [
        "197\n"
       ]
      }
     ],
     "prompt_number": 2
    },
    {
     "cell_type": "code",
     "collapsed": false,
     "input": [
      "def info_from_comments_pages(links):\n",
      "    'fetch title, upvotes, downvotes, time of submission from a sequence of links'\n",
      "    results = []\n",
      "    for urltext in links:\n",
      "        url = web.URL(urltext)\n",
      "        print \"fetching info for\", url\n",
      "        try:\n",
      "            dom = web.DOM(url.download(cached=False))\n",
      "            title = dom('title')[0].content\n",
      "            print 'title ', title\n",
      "            votes = int(dom.by_class('score')[0].children[0].content.replace(',', ''))\n",
      "            print 'votes ', votes\n",
      "            percent = int(dom.by_class('score')[0].content.split('(')[-1].split('%')[0])\n",
      "            print 'percent', percent\n",
      "            upvotes = votes * percent / 100\n",
      "            print 'upvotes', upvotes\n",
      "            downvotes = votes * (100 - percent) / 100\n",
      "            print 'downvotes', downvotes\n",
      "            time = dom.by_class('date')[0]('time')[0].attributes.get('datetime')\n",
      "            print 'time', time\n",
      "            results.append((title, upvotes, downvotes, pd.to_datetime(time)))\n",
      "        \n",
      "        except KeyboardInterrupt:\n",
      "            # allow us to interrupt the kernel but use what we've already fetched\n",
      "            break\n",
      "        except:\n",
      "            pass  # some things that look like comment pages don't have the information above\n",
      "    return results"
     ],
     "language": "python",
     "metadata": {},
     "outputs": [],
     "prompt_number": 30
    },
    {
     "cell_type": "code",
     "collapsed": false,
     "input": [
      "comments_pages = get_links_from_front_pages(5)\n",
      "print \"Fetching info for\", len(comments_pages), \"pages\"\n",
      "pages = info_from_comments_pages(comments_pages)\n",
      "titles, upvotes, downvotes, dates = zip(*pages)  # zip(*seq) transposes a sequence of sequences.\n",
      "df = pd.DataFrame({'title' : titles, 'upvotes' : upvotes, 'downvotes' : downvotes, 'date' : dates}, index=dates)\n",
      "print df"
     ],
     "language": "python",
     "metadata": {},
     "outputs": [
      {
       "output_type": "stream",
       "stream": "stdout",
       "text": [
        "Fetching info for 163 pages\n",
        "fetching info for http://www.reddit.com/r/dataisbeautiful/comments/318jci/so_i_got_to_benchmark_a_1000000_allssd_san/\n",
        "title "
       ]
      },
      {
       "output_type": "stream",
       "stream": "stdout",
       "text": [
        " So I got to benchmark a $1,000,000 all-SSD SAN storage array at work today.. Topped out at 14,169MB/sec, recorded during a VAAI operation to thick-provision a LUN w/ eager zero within VMWare ESXi. [OC] : dataisbeautiful\n",
        "votes "
       ]
      },
      {
       "output_type": "stream",
       "stream": "stdout",
       "text": [
        " 76\n",
        "percent 84\n",
        "upvotes 63\n",
        "downvotes 12\n",
        "time 2015-04-02T21:13:06+00:00\n",
        "fetching info for http://www.reddit.com/r/AskReddit/comments/318za9/are_people_with_aspergers_aware_of_whats_going_on/\n",
        "title "
       ]
      },
      {
       "output_type": "stream",
       "stream": "stdout",
       "text": [
        " Are people with Aspergers aware of what's going on around them and why? : AskReddit\n",
        "votes "
       ]
      },
      {
       "output_type": "stream",
       "stream": "stdout",
       "text": [
        " 0\n",
        "percent 20\n",
        "upvotes 0\n",
        "downvotes 0\n",
        "time 2015-04-02T23:14:35+00:00\n",
        "fetching info for http://www.reddit.com/r/askscience/comments/316idu/does_the_human_brain_operate_like_an_algorithm/\n",
        "title "
       ]
      },
      {
       "output_type": "stream",
       "stream": "stdout",
       "text": [
        " Does the human brain operate like an algorithm when trying to remember something? : askscience\n",
        "votes "
       ]
      },
      {
       "output_type": "stream",
       "stream": "stdout",
       "text": [
        " 1599\n",
        "percent"
       ]
      },
      {
       "output_type": "stream",
       "stream": "stdout",
       "text": [
        " 88\n",
        "upvotes 1407\n",
        "downvotes 191\n",
        "time"
       ]
      },
      {
       "output_type": "stream",
       "stream": "stdout",
       "text": [
        " 2015-04-02T04:26:32-07:00\n",
        "fetching info for http://www.reddit.com/r/WritingPrompts/comments/318ykd/pm_im_writing_a_story/\n",
        "title "
       ]
      },
      {
       "output_type": "stream",
       "stream": "stdout",
       "text": [
        " [PM] I'm Writing a story... : WritingPrompts\n",
        "votes "
       ]
      },
      {
       "output_type": "stream",
       "stream": "stdout",
       "text": [
        " 1\n",
        "percent 100\n",
        "upvotes 1\n",
        "downvotes 0\n",
        "time 2015-04-02T23:08:23+00:00\n",
        "fetching info for http://www.reddit.com/r/Documentaries/comments/317g3n/escape_from_the_maze_2009_the_maze_prison_in/\n",
        "title "
       ]
      },
      {
       "output_type": "stream",
       "stream": "stdout",
       "text": [
        " Escape from The Maze (2009) The Maze Prison in Northern Ireland was a prison within a prison within an Army camp and was called &quot;The most secure prison in Western Europe.&quot; In 1983 IRA volunteers made a daring bid to escape it's walls. : Documentaries\n",
        "votes "
       ]
      },
      {
       "output_type": "stream",
       "stream": "stdout",
       "text": [
        " 272\n",
        "percent 90\n",
        "upvotes 244\n",
        "downvotes 27\n",
        "time"
       ]
      },
      {
       "output_type": "stream",
       "stream": "stdout",
       "text": [
        " 2015-04-02T16:24:07+00:00\n",
        "fetching info for http://www.reddit.com/r/food/comments/31797o/submitted_this_to_my_local_sub_and_was_told_to/\n",
        "title "
       ]
      },
      {
       "output_type": "stream",
       "stream": "stdout",
       "text": [
        " Submitted this to my local sub and was told to post here. Here's a little southern comfort for &quot;y'all&quot;! : food\n",
        "votes "
       ]
      },
      {
       "output_type": "stream",
       "stream": "stdout",
       "text": [
        " 3541\n",
        "percent"
       ]
      },
      {
       "output_type": "stream",
       "stream": "stdout",
       "text": [
        " 92\n",
        "upvotes 3257\n",
        "downvotes 283\n",
        "time"
       ]
      },
      {
       "output_type": "stream",
       "stream": "stdout",
       "text": [
        " 2015-04-02T15:32:03+00:00\n",
        "fetching info for http://www.reddit.com/r/EarthPorn/comments/316r9u/live_at_paradise_canton_of_bern_switzerland_by/\n",
        "title "
       ]
      },
      {
       "output_type": "stream",
       "stream": "stdout",
       "text": [
        " Live at Paradise! Canton of Bern, Switzerland by Toni [1600 X 1064] : EarthPorn\n",
        "votes "
       ]
      },
      {
       "output_type": "stream",
       "stream": "stdout",
       "text": [
        " 611\n",
        "percent 95\n",
        "upvotes 580\n",
        "downvotes 30\n",
        "time 2015-04-02T13:06:21+00:00\n",
        "fetching info for http://www.reddit.com/r/philosophy/comments/317ib4/the_illusion_of_qualia_id_be_interested_to_hear/\n",
        "title "
       ]
      },
      {
       "output_type": "stream",
       "stream": "stdout",
       "text": [
        " The Illusion of Qualia. I'd be interested to hear what you think of this podcast I recorded for Philosophy Bites. : philosophy\n",
        "votes "
       ]
      },
      {
       "output_type": "stream",
       "stream": "stdout",
       "text": [
        " 19\n",
        "percent 76\n",
        "upvotes 14\n",
        "downvotes 4\n",
        "time 2015-04-02T16:40:09+00:00\n",
        "fetching info for http://www.reddit.com/r/space/comments/317ezt/earth_receiving_mysterious_radio_signals_from/\n",
        "title "
       ]
      },
      {
       "output_type": "stream",
       "stream": "stdout",
       "text": [
        " Earth receiving mysterious radio signals from outer space; alien life source a possibility, believe astronomers : space\n",
        "votes "
       ]
      },
      {
       "output_type": "stream",
       "stream": "stdout",
       "text": [
        " 300\n",
        "percent 86\n",
        "upvotes 258\n",
        "downvotes 42\n",
        "time"
       ]
      },
      {
       "output_type": "stream",
       "stream": "stdout",
       "text": [
        " 2015-04-02T16:15:39+00:00\n",
        "fetching info for http://www.reddit.com/r/aww/comments/316vwe/i_left_her_alone_for_10_seconds/\n",
        "title "
       ]
      },
      {
       "output_type": "stream",
       "stream": "stdout",
       "text": [
        " I left her alone for 10 seconds... : aww\n",
        "votes "
       ]
      },
      {
       "output_type": "stream",
       "stream": "stdout",
       "text": [
        " 3513\n",
        "percent 95\n",
        "upvotes 3337\n",
        "downvotes 175\n",
        "time"
       ]
      },
      {
       "output_type": "stream",
       "stream": "stdout",
       "text": [
        " 2015-04-02T13:47:43+00:00\n",
        "fetching info for http://www.reddit.com/r/mildlyinteresting/comments/317n9r/these_paving_stones_have_been_put_back_wrong_its/\n",
        "title "
       ]
      },
      {
       "output_type": "stream",
       "stream": "stdout",
       "text": [
        " These paving stones have been put back wrong (it's mean to be a bike lane) : mildlyinteresting\n",
        "votes "
       ]
      },
      {
       "output_type": "stream",
       "stream": "stdout",
       "text": [
        " 876\n",
        "percent 94\n",
        "upvotes 823\n",
        "downvotes 52\n",
        "time 2015-04-02T17:16:05+00:00\n",
        "fetching info for http://www.reddit.com/r/funny/comments/317gla/saw_this_in_the_library_at_my_college_today_nice/\n",
        "title "
       ]
      },
      {
       "output_type": "stream",
       "stream": "stdout",
       "text": [
        " Saw this in the library at my college today. Nice try you sneaky librarians. : funny\n",
        "votes "
       ]
      },
      {
       "output_type": "stream",
       "stream": "stdout",
       "text": [
        " 2097\n",
        "percent 92\n",
        "upvotes 1929\n",
        "downvotes 167\n",
        "time"
       ]
      },
      {
       "output_type": "stream",
       "stream": "stdout",
       "text": [
        " 2015-04-02T16:27:39+00:00\n",
        "fetching info for http://www.reddit.com/r/WritingPrompts/comments/31660x/wp_as_a_joke_you_scream_help_in_your_head_as_loud/\n",
        "title "
       ]
      },
      {
       "output_type": "stream",
       "stream": "stdout",
       "text": [
        " [WP] As a joke, you scream 'HELP!' in your head as loud as you can while in a crowded area to catch out any unsuspecting psychics. Everyone in the vicinity turns to look at you. : WritingPrompts\n",
        "votes "
       ]
      },
      {
       "output_type": "stream",
       "stream": "stdout",
       "text": [
        " 1898\n",
        "percent 93\n",
        "upvotes 1765\n",
        "downvotes 132\n",
        "time"
       ]
      },
      {
       "output_type": "stream",
       "stream": "stdout",
       "text": [
        " 2015-04-02T08:14:42+00:00\n",
        "fetching info for http://www.reddit.com/r/funny/comments/317086/thats_a_bold_move_cotton/\n",
        "title "
       ]
      },
      {
       "output_type": "stream",
       "stream": "stdout",
       "text": [
        " That's a bold move, Cotton... : funny\n",
        "votes "
       ]
      },
      {
       "output_type": "stream",
       "stream": "stdout",
       "text": [
        " 3561\n",
        "percent"
       ]
      },
      {
       "output_type": "stream",
       "stream": "stdout",
       "text": [
        " 91\n",
        "upvotes 3240\n",
        "downvotes 320\n",
        "time"
       ]
      },
      {
       "output_type": "stream",
       "stream": "stdout",
       "text": [
        " 2015-04-02T07:23:55-07:00\n",
        "fetching info for http://www.reddit.com/r/Jokes/comments/316brs/my_7yearold_nephew_showed_me_with_pride_the/\n",
        "title "
       ]
      },
      {
       "output_type": "stream",
       "stream": "stdout",
       "text": [
        " My 7-year-old nephew showed me with pride the &quot;telephone&quot; he had just made from a string and two tin cans.... : Jokes\n",
        "votes "
       ]
      },
      {
       "output_type": "stream",
       "stream": "stdout",
       "text": [
        " 3836\n",
        "percent"
       ]
      },
      {
       "output_type": "stream",
       "stream": "stdout",
       "text": [
        " 93\n",
        "upvotes 3567\n",
        "downvotes 268\n",
        "time"
       ]
      },
      {
       "output_type": "stream",
       "stream": "stdout",
       "text": [
        " 2015-04-02T09:45:35+00:00\n",
        "fetching info for http://www.reddit.com/r/philosophy/comments/317eob/pierre_jacob_gives_a_talk_on_whats_so_special/\n",
        "title "
       ]
      },
      {
       "output_type": "stream",
       "stream": "stdout",
       "text": [
        " Pierre Jacob gives a talk on &quot;What's so Special about Human Social Cognition?&quot; : philosophy\n",
        "votes "
       ]
      },
      {
       "output_type": "stream",
       "stream": "stdout",
       "text": [
        " 4\n",
        "percent 83\n",
        "upvotes 3\n",
        "downvotes 0\n",
        "time 2015-04-02T16:13:19+00:00\n",
        "fetching info for http://www.reddit.com/r/space/comments/315wy1/jupiter_in_1879_and_2014/\n",
        "title "
       ]
      },
      {
       "output_type": "stream",
       "stream": "stdout",
       "text": [
        " Jupiter in 1879 and 2014 : space\n",
        "votes "
       ]
      },
      {
       "output_type": "stream",
       "stream": "stdout",
       "text": [
        " 4907\n",
        "percent"
       ]
      },
      {
       "output_type": "stream",
       "stream": "stdout",
       "text": [
        " 97\n",
        "upvotes 4759\n",
        "downvotes 147\n",
        "time"
       ]
      },
      {
       "output_type": "stream",
       "stream": "stdout",
       "text": [
        " 2015-04-02T06:09:09+00:00\n",
        "fetching info for http://www.reddit.com/r/photoshopbattles/comments/317uzv/psbattle_daniel_radcliffes_first_promo_shot_for/\n",
        "title "
       ]
      },
      {
       "output_type": "stream",
       "stream": "stdout",
       "text": [
        " PsBattle: Daniel Radcliffe's first promo shot for &quot;Harry Potter And The Sorcerer's Stone&quot; : photoshopbattles\n",
        "votes "
       ]
      },
      {
       "output_type": "stream",
       "stream": "stdout",
       "text": [
        " 245\n",
        "percent 89\n",
        "upvotes 218\n",
        "downvotes 26\n",
        "time"
       ]
      },
      {
       "output_type": "stream",
       "stream": "stdout",
       "text": [
        " 2015-04-02T18:20:46+00:00\n",
        "fetching info for http://www.reddit.com/r/funny/comments/318z5c/what_flavor_is_glass/\n",
        "title "
       ]
      },
      {
       "output_type": "stream",
       "stream": "stdout",
       "text": [
        " What flavor is glass? : funny\n",
        "votes "
       ]
      },
      {
       "output_type": "stream",
       "stream": "stdout",
       "text": [
        " 4\n",
        "percent 75\n",
        "upvotes 3\n",
        "downvotes 1\n",
        "time 2015-04-02T23:13:31+00:00\n",
        "fetching info for http://www.reddit.com/r/worldnews/comments/317z9m/terror_attack_over_147_dead_at_kenya_university/\n",
        "title "
       ]
      },
      {
       "output_type": "stream",
       "stream": "stdout",
       "text": [
        " Terror attack over, 147 dead at Kenya university : worldnews\n",
        "votes "
       ]
      },
      {
       "output_type": "stream",
       "stream": "stdout",
       "text": [
        " 924\n",
        "percent"
       ]
      },
      {
       "output_type": "stream",
       "stream": "stdout",
       "text": [
        " 93\n",
        "upvotes 859\n",
        "downvotes 64\n",
        "time"
       ]
      },
      {
       "output_type": "stream",
       "stream": "stdout",
       "text": [
        " 2015-04-02T18:50:42+00:00\n",
        "fetching info for http://www.reddit.com/r/Futurology/comments/31795t/nasa_selects_companies_to_develop_superfast_deep/\n",
        "title "
       ]
      },
      {
       "output_type": "stream",
       "stream": "stdout",
       "text": [
        " NASA Selects Companies to Develop Super-Fast Deep Space Engine : Futurology\n",
        "votes "
       ]
      },
      {
       "output_type": "stream",
       "stream": "stdout",
       "text": [
        " 1020\n",
        "percent"
       ]
      },
      {
       "output_type": "stream",
       "stream": "stdout",
       "text": [
        " 95\n",
        "upvotes 969\n",
        "downvotes 51\n",
        "time"
       ]
      },
      {
       "output_type": "stream",
       "stream": "stdout",
       "text": [
        " 2015-04-02T15:31:39+00:00\n",
        "fetching info for http://www.reddit.com/r/AskReddit/comments/318z92/what_is_your_irrational_fear/\n",
        "title "
       ]
      },
      {
       "output_type": "stream",
       "stream": "stdout",
       "text": [
        " What is your irrational fear? : AskReddit\n",
        "votes "
       ]
      },
      {
       "output_type": "stream",
       "stream": "stdout",
       "text": [
        " 1\n",
        "percent 67\n",
        "upvotes 0\n",
        "downvotes 0\n",
        "time 2015-04-02T23:14:18+00:00\n",
        "fetching info for http://www.reddit.com/r/funny/comments/316t94/testing_my_offices_strict_dress_code_ill_graduate/\n",
        "title "
       ]
      },
      {
       "output_type": "stream",
       "stream": "stdout",
       "text": [
        " Testing my office's strict dress code. I'll graduate to two feet once I feel I've... slipped under the radar. [OC] : funny\n",
        "votes "
       ]
      },
      {
       "output_type": "stream",
       "stream": "stdout",
       "text": [
        " 4263\n",
        "percent"
       ]
      },
      {
       "output_type": "stream",
       "stream": "stdout",
       "text": [
        " 94\n",
        "upvotes 4007\n",
        "downvotes 255\n",
        "time"
       ]
      },
      {
       "output_type": "stream",
       "stream": "stdout",
       "text": [
        " 2015-04-02T06:24:00-07:00\n",
        "fetching info for http://www.reddit.com/r/funny/comments/318z9c/in_the_sea_of_college_peers/\n",
        "title "
       ]
      },
      {
       "output_type": "stream",
       "stream": "stdout",
       "text": [
        " In the sea of college peers... : funny\n",
        "votes "
       ]
      },
      {
       "output_type": "stream",
       "stream": "stdout",
       "text": [
        " 0\n",
        "percent 29\n",
        "upvotes 0\n",
        "downvotes 0\n",
        "time 2015-04-02T23:14:22+00:00\n",
        "fetching info for http://www.reddit.com/r/gaming/comments/318ze2/after_all_these_yearsive_finally_beat_mike_tyson/\n",
        "title "
       ]
      },
      {
       "output_type": "stream",
       "stream": "stdout",
       "text": [
        " After all these years....I've finally beat Mike Tyson. : gaming\n",
        "votes  0\n",
        "percent"
       ]
      },
      {
       "output_type": "stream",
       "stream": "stdout",
       "text": [
        " 50\n",
        "upvotes 0\n",
        "downvotes 0\n",
        "time 2015-04-02T23:15:26+00:00\n",
        "fetching info for http://www.reddit.com/r/todayilearned/comments/316pyf/til_the_shogun_who_ruled_japan_16801709/\n",
        "title "
       ]
      },
      {
       "output_type": "stream",
       "stream": "stdout",
       "text": [
        " TIL the Shogun who ruled Japan 1680\u20131709 introduced animal rights laws and fed dogs in public kennels rice and fish at the taxpayers' expense. : todayilearned\n",
        "votes "
       ]
      },
      {
       "output_type": "stream",
       "stream": "stdout",
       "text": [
        " 2747\n",
        "percent"
       ]
      },
      {
       "output_type": "stream",
       "stream": "stdout",
       "text": [
        " 95\n",
        "upvotes 2609\n",
        "downvotes 137\n",
        "time"
       ]
      },
      {
       "output_type": "stream",
       "stream": "stdout",
       "text": [
        " 2015-04-02T05:53:48-07:00\n",
        "fetching info for http://www.reddit.com/r/history/comments/315p43/intact_ottoman_war_camel_found_in_austrian_cellar/\n",
        "title "
       ]
      },
      {
       "output_type": "stream",
       "stream": "stdout",
       "text": [
        " Intact Ottoman 'war camel' found in Austrian cellar : history\n",
        "votes "
       ]
      },
      {
       "output_type": "stream",
       "stream": "stdout",
       "text": [
        " 1184\n",
        "percent"
       ]
      },
      {
       "output_type": "stream",
       "stream": "stdout",
       "text": [
        " 92\n",
        "upvotes 1089\n",
        "downvotes 94\n",
        "time"
       ]
      },
      {
       "output_type": "stream",
       "stream": "stdout",
       "text": [
        " 2015-04-02T04:43:44+00:00\n",
        "fetching info for http://www.reddit.com/r/Music/comments/3173r9/rick_astley_lights_out_blueeyed_soul_first_single/\n",
        "title "
       ]
      },
      {
       "output_type": "stream",
       "stream": "stdout",
       "text": [
        " Rick Astley - Lights Out [Blue-Eyed Soul] *First Single in 17 Years* : Music\n",
        "votes "
       ]
      },
      {
       "output_type": "stream",
       "stream": "stdout",
       "text": [
        " 3348\n",
        "percent"
       ]
      },
      {
       "output_type": "stream",
       "stream": "stdout",
       "text": [
        " 91\n",
        "upvotes 3046\n",
        "downvotes 301\n",
        "time"
       ]
      },
      {
       "output_type": "stream",
       "stream": "stdout",
       "text": [
        " 2015-04-02T14:51:50+00:00\n",
        "fetching info for http://www.reddit.com/r/InternetIsBeautiful/comments/316o2o/life_happens_at_the_molecular_level_watch/\n",
        "title "
       ]
      },
      {
       "output_type": "stream",
       "stream": "stdout",
       "text": [
        " Life happens at the molecular level: Watch animations of various cellular processes at the molecular level : InternetIsBeautiful\n",
        "votes "
       ]
      },
      {
       "output_type": "stream",
       "stream": "stdout",
       "text": [
        " 643\n",
        "percent 91\n",
        "upvotes 585\n",
        "downvotes 57\n",
        "time 2015-04-02T12:34:47+00:00\n",
        "fetching info for http://www.reddit.com/r/gaming/comments/316zge/some_updates_to_the_legendary_catalog/\n",
        "title "
       ]
      },
      {
       "output_type": "stream",
       "stream": "stdout",
       "text": [
        " Some updates to the Legendary catalog. : gaming\n",
        "votes "
       ]
      },
      {
       "output_type": "stream",
       "stream": "stdout",
       "text": [
        " 1702\n",
        "percent 79\n",
        "upvotes 1344\n",
        "downvotes 357\n",
        "time"
       ]
      },
      {
       "output_type": "stream",
       "stream": "stdout",
       "text": [
        " 2015-04-02T07:17:25-07:00\n",
        "fetching info for http://www.reddit.com/r/nottheonion/comments/316fpd/dublin_sink_hole_mystery_tunnel_to_a_19th_century/\n",
        "title "
       ]
      },
      {
       "output_type": "stream",
       "stream": "stdout",
       "text": [
        " Dublin sink hole mystery: Tunnel to a 19th century brothel causes traffic chaos in city centre : nottheonion\n",
        "votes "
       ]
      },
      {
       "output_type": "stream",
       "stream": "stdout",
       "text": [
        " 2500\n",
        "percent"
       ]
      },
      {
       "output_type": "stream",
       "stream": "stdout",
       "text": [
        " 94\n",
        "upvotes 2350\n",
        "downvotes 150\n",
        "time"
       ]
      },
      {
       "output_type": "stream",
       "stream": "stdout",
       "text": [
        " 2015-04-02T10:48:41+00:00\n",
        "fetching info for http://www.reddit.com/r/todayilearned/comments/318ze9/til_ive_been_using_toilet_seat_covers_wrong_my/\n",
        "title "
       ]
      },
      {
       "output_type": "stream",
       "stream": "stdout",
       "text": [
        " TIL I've been using toilet seat covers wrong my whole life. : todayilearned\n",
        "votes "
       ]
      },
      {
       "output_type": "stream",
       "stream": "stdout",
       "text": [
        " 0\n",
        "percent 29\n",
        "upvotes 0\n",
        "downvotes 0\n",
        "time 2015-04-02T23:15:29+00:00\n",
        "fetching info for http://www.reddit.com/r/philosophy/comments/316e9j/adorno_and_the_articulation_of_the_critique_of/\n",
        "title "
       ]
      },
      {
       "output_type": "stream",
       "stream": "stdout",
       "text": [
        " Adorno and the Articulation of the Critique of Bourgeois Economics : philosophy\n",
        "votes "
       ]
      },
      {
       "output_type": "stream",
       "stream": "stdout",
       "text": [
        " 57\n",
        "percent 71\n",
        "upvotes 40\n",
        "downvotes 16\n",
        "time"
       ]
      },
      {
       "output_type": "stream",
       "stream": "stdout",
       "text": [
        " 2015-04-02T10:26:20+00:00\n",
        "fetching info for http://www.reddit.com/r/Music/comments/318zge/dr_dre_w_nate_dogg_hittman_sixtwo_kurupt/\n",
        "title "
       ]
      },
      {
       "output_type": "stream",
       "stream": "stdout",
       "text": [
        " Dr. Dre w/ Nate Dogg, Hittman, Six-Two, Kurupt - Xxplosive [Gangster Rap] 2001 : Music\n",
        "votes "
       ]
      },
      {
       "output_type": "stream",
       "stream": "stdout",
       "text": [
        " 2\n",
        "percent 100\n",
        "upvotes 2\n",
        "downvotes 0\n",
        "time 2015-04-02T23:15:59+00:00\n",
        "fetching info for http://www.reddit.com/r/explainlikeimfive/comments/318zff/eli5why_do_i_always_get_messages_when_trying_to/\n",
        "title "
       ]
      },
      {
       "output_type": "stream",
       "stream": "stdout",
       "text": [
        " ELI5:Why do I always get messages when trying to Browse reddit like v&quot;servers are busy&quot;, and &quot;servers cant handle&quot;? : explainlikeimfive\n",
        "votes "
       ]
      },
      {
       "output_type": "stream",
       "stream": "stdout",
       "text": [
        " 1\n",
        "percent 100\n",
        "upvotes 1\n",
        "downvotes 0\n",
        "time 2015-04-02T23:15:46+00:00\n",
        "fetching info for http://www.reddit.com/r/TwoXChromosomes/comments/317dt3/public_health_advice_from_dr_delgado_of/\n",
        "title "
       ]
      },
      {
       "output_type": "stream",
       "stream": "stdout",
       "text": [
        " Public Health Advice from Dr. Delgado of Abortionpillreversal.com: If You\u2019re a Woman and Your Husband has HIV, Never Use Condoms, Because in Marriage \u201cYou Give Yourself Totally Including Your Diseases and They Have to Realize That.\u201d : TwoXChromosomes\n",
        "votes "
       ]
      },
      {
       "output_type": "stream",
       "stream": "stdout",
       "text": [
        " 514\n",
        "percent 91\n",
        "upvotes 467\n",
        "downvotes 46\n",
        "time"
       ]
      },
      {
       "output_type": "stream",
       "stream": "stdout",
       "text": [
        " 2015-04-02T16:06:33+00:00\n",
        "fetching info for http://www.reddit.com/r/Art/comments/318you/my_art_progress_age_1118/\n",
        "title "
       ]
      },
      {
       "output_type": "stream",
       "stream": "stdout",
       "text": [
        " My Art Progress Age 11-18 : Art\n",
        "votes "
       ]
      },
      {
       "output_type": "stream",
       "stream": "stdout",
       "text": [
        " 4\n",
        "percent 84\n",
        "upvotes 3\n",
        "downvotes 0\n",
        "time 2015-04-02T23:09:35+00:00\n",
        "fetching info for http://www.reddit.com/r/gifs/comments/318z7k/ill_show_you_you_fucking_asshole_leave_now_yessir/\n",
        "title "
       ]
      },
      {
       "output_type": "stream",
       "stream": "stdout",
       "text": [
        " &quot;I'll show you you fucking asshole!&quot; &quot;Leave now.&quot; &quot;Yessir.&quot; : gifs\n",
        "votes "
       ]
      },
      {
       "output_type": "stream",
       "stream": "stdout",
       "text": [
        " 3\n",
        "percent 80\n",
        "upvotes 2\n",
        "downvotes 0\n",
        "time 2015-04-02T23:14:00+00:00\n",
        "fetching info for http://www.reddit.com/r/gaming/comments/316uuk/not_the_biggest_fan_of_minecraft_but_this_blew_my/\n",
        "title "
       ]
      },
      {
       "output_type": "stream",
       "stream": "stdout",
       "text": [
        " Not the biggest fan of Minecraft, but this blew my mind. : gaming\n",
        "votes "
       ]
      },
      {
       "output_type": "stream",
       "stream": "stdout",
       "text": [
        " 2202\n",
        "percent"
       ]
      },
      {
       "output_type": "stream",
       "stream": "stdout",
       "text": [
        " 90\n",
        "upvotes 1981\n",
        "downvotes 220\n",
        "time"
       ]
      },
      {
       "output_type": "stream",
       "stream": "stdout",
       "text": [
        " 2015-04-02T13:38:20+00:00\n",
        "fetching info for http://www.reddit.com/r/pics/comments/318zcs/beautiful_wasp_moth/\n",
        "title "
       ]
      },
      {
       "output_type": "stream",
       "stream": "stdout",
       "text": [
        " Beautiful Wasp Moth : pics\n",
        "votes "
       ]
      },
      {
       "output_type": "stream",
       "stream": "stdout",
       "text": [
        " 5\n",
        "percent 86\n",
        "upvotes 4\n",
        "downvotes 0\n",
        "time 2015-04-02T23:15:09+00:00\n",
        "fetching info for http://www.reddit.com/r/gifs/comments/316ngs/kid_dunks_himself/\n",
        "title "
       ]
      },
      {
       "output_type": "stream",
       "stream": "stdout",
       "text": [
        " Kid dunks himself : gifs\n",
        "votes "
       ]
      },
      {
       "output_type": "stream",
       "stream": "stdout",
       "text": [
        " 4152\n",
        "percent"
       ]
      },
      {
       "output_type": "stream",
       "stream": "stdout",
       "text": [
        " 94\n",
        "upvotes 3902\n",
        "downvotes 249\n",
        "time"
       ]
      },
      {
       "output_type": "stream",
       "stream": "stdout",
       "text": [
        " 2015-04-02T12:28:40+00:00\n",
        "fetching info for http://www.reddit.com/r/Showerthoughts/comments/318yj6/anyone_who_was_born_this_century_probably_has_no/\n",
        "title "
       ]
      },
      {
       "output_type": "stream",
       "stream": "stdout",
       "text": [
        " Anyone who was born this century probably has no idea why they call MTV &quot;music television&quot; : Showerthoughts\n",
        "votes "
       ]
      },
      {
       "output_type": "stream",
       "stream": "stdout",
       "text": [
        " 4\n",
        "percent 100\n",
        "upvotes 4\n",
        "downvotes 0\n",
        "time 2015-04-02T23:08:10+00:00\n",
        "fetching info for http://www.reddit.com/r/photoshopbattles/comments/317hws/psbattle_hairless_cat_with_spilled_coins/\n",
        "title "
       ]
      },
      {
       "output_type": "stream",
       "stream": "stdout",
       "text": [
        " PsBattle: Hairless cat with spilled coins : photoshopbattles\n",
        "votes "
       ]
      },
      {
       "output_type": "stream",
       "stream": "stdout",
       "text": [
        " 762\n",
        "percent 94\n",
        "upvotes 716\n",
        "downvotes 45\n",
        "time 2015-04-02T16:37:09+00:00\n",
        "fetching info for http://www.reddit.com/r/gifs/comments/317m87/i_customised_my_water_cup_again/\n",
        "title "
       ]
      },
      {
       "output_type": "stream",
       "stream": "stdout",
       "text": [
        " I customised my water cup. Again. : gifs\n",
        "votes "
       ]
      },
      {
       "output_type": "stream",
       "stream": "stdout",
       "text": [
        " 3957\n",
        "percent"
       ]
      },
      {
       "output_type": "stream",
       "stream": "stdout",
       "text": [
        " 93\n",
        "upvotes 3680\n",
        "downvotes 276\n",
        "time"
       ]
      },
      {
       "output_type": "stream",
       "stream": "stdout",
       "text": [
        " 2015-04-02T10:08:41-07:00\n",
        "fetching info for http://www.reddit.com/r/videos/comments/316fzv/man_tries_to_burn_eu_flag_which_wont_burn_due_to/\n",
        "title "
       ]
      },
      {
       "output_type": "stream",
       "stream": "stdout",
       "text": [
        " Man tries to burn EU flag - which won't burn due to EU fire safety rules : videos\n",
        "votes "
       ]
      },
      {
       "output_type": "stream",
       "stream": "stdout",
       "text": [
        " 4028\n",
        "percent"
       ]
      },
      {
       "output_type": "stream",
       "stream": "stdout",
       "text": [
        " 92\n",
        "upvotes 3705\n",
        "downvotes 322\n",
        "time"
       ]
      },
      {
       "output_type": "stream",
       "stream": "stdout",
       "text": [
        " 2015-04-02T10:53:02+00:00\n",
        "fetching info for http://www.reddit.com/r/gifs/comments/317k16/turning_corners_in_style/\n",
        "title "
       ]
      },
      {
       "output_type": "stream",
       "stream": "stdout",
       "text": [
        " Turning corners in style : gifs\n",
        "votes "
       ]
      },
      {
       "output_type": "stream",
       "stream": "stdout",
       "text": [
        " 3750\n",
        "percent"
       ]
      },
      {
       "output_type": "stream",
       "stream": "stdout",
       "text": [
        " 96\n",
        "upvotes 3600\n",
        "downvotes 150\n",
        "time"
       ]
      },
      {
       "output_type": "stream",
       "stream": "stdout",
       "text": [
        " 2015-04-02T16:52:34+00:00\n",
        "fetching info for http://www.reddit.com/r/funny/comments/316s02/so_dad_i_ate_all_the_cheese_balls_and/\n",
        "title "
       ]
      },
      {
       "output_type": "stream",
       "stream": "stdout",
       "text": [
        " So dad, I ate all the cheese balls and... : funny\n",
        "votes "
       ]
      },
      {
       "output_type": "stream",
       "stream": "stdout",
       "text": [
        " 4249\n",
        "percent"
       ]
      },
      {
       "output_type": "stream",
       "stream": "stdout",
       "text": [
        " 94\n",
        "upvotes 3994\n",
        "downvotes 254\n",
        "time"
       ]
      },
      {
       "output_type": "stream",
       "stream": "stdout",
       "text": [
        " 2015-04-02T06:13:25-07:00\n",
        "fetching info for http://www.reddit.com/r/science/comments/317rbi/mans_kidney_failure_linked_to_his_habit_of/\n",
        "title "
       ]
      },
      {
       "output_type": "stream",
       "stream": "stdout",
       "text": [
        " Man's kidney failure linked to his habit of drinking a gallon of iced tea each day. : science\n",
        "votes "
       ]
      },
      {
       "output_type": "stream",
       "stream": "stdout",
       "text": [
        " 3871\n",
        "percent"
       ]
      },
      {
       "output_type": "stream",
       "stream": "stdout",
       "text": [
        " 95\n",
        "upvotes 3677\n",
        "downvotes 193\n",
        "time"
       ]
      },
      {
       "output_type": "stream",
       "stream": "stdout",
       "text": [
        " 2015-04-02T17:57:47+00:00\n",
        "fetching info for http://www.reddit.com/r/listentothis/comments/317scl/else_zephyr_electro_funk_2015/\n",
        "title "
       ]
      },
      {
       "output_type": "stream",
       "stream": "stdout",
       "text": [
        " Else - Zephyr [Electro Funk] (2015) : listentothis\n",
        "votes "
       ]
      },
      {
       "output_type": "stream",
       "stream": "stdout",
       "text": [
        " 63\n",
        "percent 91\n",
        "upvotes 57\n",
        "downvotes 5\n",
        "time 2015-04-02T18:03:44+00:00\n",
        "fetching info for http://www.reddit.com/r/gaming/comments/317n11/my_sister_crochets_this_is_her_first_commissioned/\n",
        "title "
       ]
      },
      {
       "output_type": "stream",
       "stream": "stdout",
       "text": [
        " My sister crochets, this is her first commissioned piece : gaming\n",
        "votes "
       ]
      },
      {
       "output_type": "stream",
       "stream": "stdout",
       "text": [
        " 2272\n",
        "percent 92\n",
        "upvotes 2090\n",
        "downvotes 181\n",
        "time"
       ]
      },
      {
       "output_type": "stream",
       "stream": "stdout",
       "text": [
        " 2015-04-02T17:14:15+00:00\n",
        "fetching info for http://www.reddit.com/r/aww/comments/317iub/1_month_old_hippo/\n",
        "title "
       ]
      },
      {
       "output_type": "stream",
       "stream": "stdout",
       "text": [
        " 1 Month Old Hippo : aww\n",
        "votes "
       ]
      },
      {
       "output_type": "stream",
       "stream": "stdout",
       "text": [
        " 2503\n",
        "percent 93\n",
        "upvotes 2327\n",
        "downvotes 175\n",
        "time"
       ]
      },
      {
       "output_type": "stream",
       "stream": "stdout",
       "text": [
        " 2015-04-02T16:44:10+00:00\n",
        "fetching info for http://www.reddit.com/r/gaming/comments/3178lw/my_character_in_bloodborne_is_rather_smashing/\n",
        "title "
       ]
      },
      {
       "output_type": "stream",
       "stream": "stdout",
       "text": [
        " My character in bloodborne is rather smashing : gaming\n",
        "votes "
       ]
      },
      {
       "output_type": "stream",
       "stream": "stdout",
       "text": [
        " 3840\n",
        "percent"
       ]
      },
      {
       "output_type": "stream",
       "stream": "stdout",
       "text": [
        " 91\n",
        "upvotes 3494\n",
        "downvotes 345\n",
        "time"
       ]
      },
      {
       "output_type": "stream",
       "stream": "stdout",
       "text": [
        " 2015-04-02T15:27:53+00:00\n",
        "fetching info for http://www.reddit.com/r/dataisbeautiful/comments/316pqf/male_unemployment_across_europe_oc/\n",
        "title "
       ]
      },
      {
       "output_type": "stream",
       "stream": "stdout",
       "text": [
        " Male unemployment across Europe [OC] : dataisbeautiful\n",
        "votes "
       ]
      },
      {
       "output_type": "stream",
       "stream": "stdout",
       "text": [
        " 628\n",
        "percent"
       ]
      },
      {
       "output_type": "stream",
       "stream": "stdout",
       "text": [
        " 90\n",
        "upvotes 565\n",
        "downvotes 62\n",
        "time"
       ]
      },
      {
       "output_type": "stream",
       "stream": "stdout",
       "text": [
        " 2015-04-02T12:51:26+00:00\n",
        "fetching info for http://www.reddit.com/r/askscience/comments/317gfi/could_there_be_bacteria_in_landfills_right_now/\n",
        "title "
       ]
      },
      {
       "output_type": "stream",
       "stream": "stdout",
       "text": [
        " Could there be bacteria in landfills right now evolving to digest plastics? : askscience\n",
        "votes "
       ]
      },
      {
       "output_type": "stream",
       "stream": "stdout",
       "text": [
        " 340\n",
        "percent 90\n",
        "upvotes 306\n",
        "downvotes 34\n",
        "time 2015-04-02T16:26:31+00:00\n",
        "fetching info for http://www.reddit.com/r/television/comments/316rmm/mark_hammill_gets_his_darth_vader_moment_on_the/\n",
        "title "
       ]
      },
      {
       "output_type": "stream",
       "stream": "stdout",
       "text": [
        " Mark Hammill gets his Darth Vader moment on 'The Flash'. : television\n",
        "votes "
       ]
      },
      {
       "output_type": "stream",
       "stream": "stdout",
       "text": [
        " 3052\n",
        "percent"
       ]
      },
      {
       "output_type": "stream",
       "stream": "stdout",
       "text": [
        " 92\n",
        "upvotes 2807\n",
        "downvotes 244\n",
        "time"
       ]
      },
      {
       "output_type": "stream",
       "stream": "stdout",
       "text": [
        " 2015-04-02T13:09:48+00:00\n",
        "fetching info for http://www.reddit.com/r/funny/comments/318zc8/sorry_i_am_late_for_bingo/\n",
        "title "
       ]
      },
      {
       "output_type": "stream",
       "stream": "stdout",
       "text": [
        " Sorry, I am late for bingo : funny\n",
        "votes "
       ]
      },
      {
       "output_type": "stream",
       "stream": "stdout",
       "text": [
        " 1\n",
        "percent 57\n",
        "upvotes 0\n",
        "downvotes 0\n",
        "time 2015-04-02T23:15:03+00:00\n",
        "fetching info for http://www.reddit.com/r/aww/comments/318ysy/she_demands_to_be_pet/\n",
        "title "
       ]
      },
      {
       "output_type": "stream",
       "stream": "stdout",
       "text": [
        " She demands to be pet : aww\n",
        "votes "
       ]
      },
      {
       "output_type": "stream",
       "stream": "stdout",
       "text": [
        " 3\n",
        "percent 100\n",
        "upvotes 3\n",
        "downvotes 0\n",
        "time 2015-04-02T23:10:30+00:00\n",
        "fetching info for http://www.reddit.com/r/AskReddit/comments/316hzo/which_is_the_worst_sequel_to_an_awesome_movie/\n",
        "title "
       ]
      },
      {
       "output_type": "stream",
       "stream": "stdout",
       "text": [
        " Which is the worst sequel to an awesome movie? : AskReddit\n",
        "votes "
       ]
      },
      {
       "output_type": "stream",
       "stream": "stdout",
       "text": [
        " 3646\n",
        "percent"
       ]
      },
      {
       "output_type": "stream",
       "stream": "stdout",
       "text": [
        " 91\n",
        "upvotes 3317\n",
        "downvotes 328\n",
        "time"
       ]
      },
      {
       "output_type": "stream",
       "stream": "stdout",
       "text": [
        " 2015-04-02T04:21:27-07:00\n",
        "fetching info for http://www.reddit.com/r/IAmA/comments/317wt7/its_lucky_yates_and_amber_nash_aka_krieger_and/\n",
        "title "
       ]
      },
      {
       "output_type": "stream",
       "stream": "stdout",
       "text": [
        " It's Lucky Yates and Amber Nash aka Krieger and Pam from Archer on FX! : IAmA\n",
        "votes "
       ]
      },
      {
       "output_type": "stream",
       "stream": "stdout",
       "text": [
        " 1574\n",
        "percent"
       ]
      },
      {
       "output_type": "stream",
       "stream": "stdout",
       "text": [
        " 91\n",
        "upvotes 1432\n",
        "downvotes 141\n",
        "time"
       ]
      },
      {
       "output_type": "stream",
       "stream": "stdout",
       "text": [
        " 2015-04-02T18:33:34+00:00\n",
        "fetching info for http://www.reddit.com/r/Art/comments/3174zq/collection_of_janie_stapletons_work_watercolor/\n",
        "title "
       ]
      },
      {
       "output_type": "stream",
       "stream": "stdout",
       "text": [
        " Collection of Janie Stapleton's work, Watercolor, 2015 : Art\n",
        "votes "
       ]
      },
      {
       "output_type": "stream",
       "stream": "stdout",
       "text": [
        " 1794\n",
        "percent 94\n",
        "upvotes 1686\n",
        "downvotes 107\n",
        "time 2015-04-02T15:01:04+00:00\n",
        "fetching info for http://www.reddit.com/r/funny/comments/3172g8/putting_in_screen_doors_for_warmer_weather_my_cat/\n",
        "title "
       ]
      },
      {
       "output_type": "stream",
       "stream": "stdout",
       "text": [
        " Putting in screen doors for warmer weather, my cat thinks I moved the door. : funny\n",
        "votes "
       ]
      },
      {
       "output_type": "stream",
       "stream": "stdout",
       "text": [
        " 4989\n",
        "percent"
       ]
      },
      {
       "output_type": "stream",
       "stream": "stdout",
       "text": [
        " 97\n",
        "upvotes 4839\n",
        "downvotes 149\n",
        "time"
       ]
      },
      {
       "output_type": "stream",
       "stream": "stdout",
       "text": [
        " 2015-04-02T14:41:34+00:00\n",
        "fetching info for http://www.reddit.com/r/aww/comments/316dqc/i_work_at_a_no_kill_shelter_and_this_guy_is/\n",
        "title "
       ]
      },
      {
       "output_type": "stream",
       "stream": "stdout",
       "text": [
        " I work at a no kill shelter and this guy is always fun to take out. : aww\n",
        "votes "
       ]
      },
      {
       "output_type": "stream",
       "stream": "stdout",
       "text": [
        " 3373\n",
        "percent 95\n",
        "upvotes 3204\n",
        "downvotes 168\n",
        "time"
       ]
      },
      {
       "output_type": "stream",
       "stream": "stdout",
       "text": [
        " 2015-04-02T10:18:17+00:00\n",
        "fetching info for http://www.reddit.com/r/gadgets/comments/317m79/new_exoskeleton_slips_on_like_a_boot_and_makes/\n",
        "title "
       ]
      },
      {
       "output_type": "stream",
       "stream": "stdout",
       "text": [
        " New exoskeleton slips on like a boot and makes your walking more efficient : gadgets\n",
        "votes "
       ]
      },
      {
       "output_type": "stream",
       "stream": "stdout",
       "text": [
        " 578\n",
        "percent 92\n",
        "upvotes 531\n",
        "downvotes 46\n",
        "time"
       ]
      },
      {
       "output_type": "stream",
       "stream": "stdout",
       "text": [
        " 2015-04-02T17:08:28+00:00\n",
        "fetching info for http://www.reddit.com/r/news/comments/318zez/americans_in_yemen_fear_they_have_been_left/\n",
        "title "
       ]
      },
      {
       "output_type": "stream",
       "stream": "stdout",
       "text": [
        " Americans in Yemen fear they have been left behind as bombing escalates : news\n",
        "votes "
       ]
      },
      {
       "output_type": "stream",
       "stream": "stdout",
       "text": [
        " 3\n",
        "percent 100\n",
        "upvotes 3\n",
        "downvotes 0\n",
        "time 2015-04-02T23:15:37+00:00\n",
        "fetching info for http://www.reddit.com/r/personalfinance/comments/318z16/what_should_i_do_help_usa/\n",
        "title "
       ]
      },
      {
       "output_type": "stream",
       "stream": "stdout",
       "text": [
        " What should I do? (Help! USA) : personalfinance\n",
        "votes "
       ]
      },
      {
       "output_type": "stream",
       "stream": "stdout",
       "text": [
        " 1\n",
        "percent 100\n",
        "upvotes 1\n",
        "downvotes 0\n",
        "time 2015-04-02T23:12:34+00:00\n",
        "fetching info for http://www.reddit.com/r/UpliftingNews/comments/315400/stanford_just_made_tuition_free_for_families/\n",
        "title "
       ]
      },
      {
       "output_type": "stream",
       "stream": "stdout",
       "text": [
        " Stanford just made tuition free for families earning less than $125,000 per year : UpliftingNews\n",
        "votes "
       ]
      },
      {
       "output_type": "stream",
       "stream": "stdout",
       "text": [
        " 4653\n",
        "percent"
       ]
      },
      {
       "output_type": "stream",
       "stream": "stdout",
       "text": [
        " 96\n",
        "upvotes 4466\n",
        "downvotes 186\n",
        "time"
       ]
      },
      {
       "output_type": "stream",
       "stream": "stdout",
       "text": [
        " 2015-04-02T01:44:34+00:00\n",
        "fetching info for http://www.reddit.com/r/AskReddit/comments/316ose/who_is_the_worst_band_youve_ever_seen_live_and_why/\n",
        "title "
       ]
      },
      {
       "output_type": "stream",
       "stream": "stdout",
       "text": [
        " Who is the worst band you've ever seen live and why? : AskReddit\n",
        "votes "
       ]
      },
      {
       "output_type": "stream",
       "stream": "stdout",
       "text": [
        " 3311\n",
        "percent"
       ]
      },
      {
       "output_type": "stream",
       "stream": "stdout",
       "text": [
        " 92\n",
        "upvotes 3046\n",
        "downvotes 264\n",
        "time"
       ]
      },
      {
       "output_type": "stream",
       "stream": "stdout",
       "text": [
        " 2015-04-02T05:42:11-07:00\n",
        "fetching info for http://www.reddit.com/r/personalfinance/comments/318zb3/nitpick_my_budget_please/\n",
        "title "
       ]
      },
      {
       "output_type": "stream",
       "stream": "stdout",
       "text": [
        " Nitpick my budget please : personalfinance\n",
        "votes "
       ]
      },
      {
       "output_type": "stream",
       "stream": "stdout",
       "text": [
        " 1\n",
        "percent 100\n",
        "upvotes 1\n",
        "downvotes 0\n",
        "time 2015-04-02T23:14:48+00:00\n",
        "fetching info for http://www.reddit.com/r/aww/comments/318z7r/graceful_beasts/\n",
        "title "
       ]
      },
      {
       "output_type": "stream",
       "stream": "stdout",
       "text": [
        " Graceful beasts : aww\n",
        "votes "
       ]
      },
      {
       "output_type": "stream",
       "stream": "stdout",
       "text": [
        " 3\n",
        "percent 100\n",
        "upvotes 3\n",
        "downvotes 0\n",
        "time 2015-04-02T23:14:02+00:00\n",
        "fetching info for http://www.reddit.com/r/OldSchoolCool/comments/316yaq/a_girl_in_moscow_ussr_circa_1990/\n",
        "title "
       ]
      },
      {
       "output_type": "stream",
       "stream": "stdout",
       "text": [
        " A Girl in Moscow, USSR, circa 1990 : OldSchoolCool\n",
        "votes "
       ]
      },
      {
       "output_type": "stream",
       "stream": "stdout",
       "text": [
        " 3481\n",
        "percent"
       ]
      },
      {
       "output_type": "stream",
       "stream": "stdout",
       "text": [
        " 93\n",
        "upvotes 3237\n",
        "downvotes 243\n",
        "time"
       ]
      },
      {
       "output_type": "stream",
       "stream": "stdout",
       "text": [
        " 2015-04-02T14:07:47+00:00\n",
        "fetching info for http://www.reddit.com/r/funny/comments/317u24/the_first_sign_of_spring/\n",
        "title "
       ]
      },
      {
       "output_type": "stream",
       "stream": "stdout",
       "text": [
        " The first sign of spring. : funny\n",
        "votes "
       ]
      },
      {
       "output_type": "stream",
       "stream": "stdout",
       "text": [
        " 1709\n",
        "percent 90\n",
        "upvotes 1538\n",
        "downvotes 170\n",
        "time 2015-04-02T18:14:41+00:00\n",
        "fetching info for http://www.reddit.com/r/movies/comments/316m30/the_oldest_active_movie_director_manoel_de/\n",
        "title "
       ]
      },
      {
       "output_type": "stream",
       "stream": "stdout",
       "text": [
        " The oldest active movie director, Manoel de Oliveira, dies at 106. : movies\n",
        "votes "
       ]
      },
      {
       "output_type": "stream",
       "stream": "stdout",
       "text": [
        " 3016\n",
        "percent"
       ]
      },
      {
       "output_type": "stream",
       "stream": "stdout",
       "text": [
        " 91\n",
        "upvotes 2744\n",
        "downvotes 271\n",
        "time"
       ]
      },
      {
       "output_type": "stream",
       "stream": "stdout",
       "text": [
        " 2015-04-02T12:13:43+00:00\n",
        "fetching info for http://www.reddit.com/r/IAmA/comments/316tx6/i_am_a_vacuum_repair_technician_and_subject_of/\n",
        "title "
       ]
      },
      {
       "output_type": "stream",
       "stream": "stdout",
       "text": [
        " I am a vacuum repair technician and subject of the latest Upvoted podcast, &quot;The Surprisingly Complex Life Of A Vacuum Repairman&quot;, here with a special Spring Cleaning edition. AMA! : IAmA\n",
        "votes "
       ]
      },
      {
       "output_type": "stream",
       "stream": "stdout",
       "text": [
        " 3620\n",
        "percent"
       ]
      },
      {
       "output_type": "stream",
       "stream": "stdout",
       "text": [
        " 89\n",
        "upvotes 3221\n",
        "downvotes 398\n",
        "time"
       ]
      },
      {
       "output_type": "stream",
       "stream": "stdout",
       "text": [
        " 2015-04-02T06:30:05-07:00\n",
        "fetching info for http://www.reddit.com/r/aww/comments/316utz/i_bought_the_smallest_collar_i_could/\n",
        "title "
       ]
      },
      {
       "output_type": "stream",
       "stream": "stdout",
       "text": [
        " I bought the smallest collar I could... : aww\n",
        "votes "
       ]
      },
      {
       "output_type": "stream",
       "stream": "stdout",
       "text": [
        " 1906\n",
        "percent 89\n",
        "upvotes 1696\n",
        "downvotes 209\n",
        "time 2015-04-02T13:38:10+00:00\n",
        "fetching info for http://www.reddit.com/r/news/comments/316ttv/stanford_just_made_tuition_free_for_families/\n",
        "title "
       ]
      },
      {
       "output_type": "stream",
       "stream": "stdout",
       "text": [
        " Stanford just made tuition free for families earning less than $125,000 per year : news\n",
        "votes "
       ]
      },
      {
       "output_type": "stream",
       "stream": "stdout",
       "text": [
        " 4938\n",
        "percent"
       ]
      },
      {
       "output_type": "stream",
       "stream": "stdout",
       "text": [
        " 95\n",
        "upvotes 4691\n",
        "downvotes 246\n",
        "time"
       ]
      },
      {
       "output_type": "stream",
       "stream": "stdout",
       "text": [
        " 2015-04-02T06:29:11-07:00\n",
        "fetching info for http://www.reddit.com/r/DIY/comments/316khc/diy_backyard_paving/\n",
        "title "
       ]
      },
      {
       "output_type": "stream",
       "stream": "stdout",
       "text": [
        " DIY backyard paving : DIY\n",
        "votes "
       ]
      },
      {
       "output_type": "stream",
       "stream": "stdout",
       "text": [
        " 2547\n",
        "percent"
       ]
      },
      {
       "output_type": "stream",
       "stream": "stdout",
       "text": [
        " 93\n",
        "upvotes 2368\n",
        "downvotes 178\n",
        "time"
       ]
      },
      {
       "output_type": "stream",
       "stream": "stdout",
       "text": [
        " 2015-04-02T11:54:10+00:00\n",
        "fetching info for http://www.reddit.com/r/philosophy/comments/3177n8/josh_knobe_yale_talks_about_the_true_self/\n",
        "title "
       ]
      },
      {
       "output_type": "stream",
       "stream": "stdout",
       "text": [
        " Josh Knobe (Yale) talks about the &quot;True Self&quot; : philosophy\n",
        "votes "
       ]
      },
      {
       "output_type": "stream",
       "stream": "stdout",
       "text": [
        " 42\n",
        "percent 72\n",
        "upvotes 30\n",
        "downvotes 11\n",
        "time 2015-04-02T15:20:37+00:00\n",
        "fetching info for http://www.reddit.com/r/AskReddit/comments/318zdt/if_you_could_add_anyone_whos_ever_existed_real_or/\n",
        "title "
       ]
      },
      {
       "output_type": "stream",
       "stream": "stdout",
       "text": [
        " If you could add anyone who's ever existed, real or fake, to the Smash Bros game who would it be? : AskReddit\n",
        "votes "
       ]
      },
      {
       "output_type": "stream",
       "stream": "stdout",
       "text": [
        " 1\n",
        "percent 100\n",
        "upvotes 1\n",
        "downvotes 0\n",
        "time 2015-04-02T23:15:21+00:00\n",
        "fetching info for http://www.reddit.com/r/pics/comments/3181ki/forged_rose/\n",
        "title "
       ]
      },
      {
       "output_type": "stream",
       "stream": "stdout",
       "text": [
        " Forged rose : pics\n",
        "votes "
       ]
      },
      {
       "output_type": "stream",
       "stream": "stdout",
       "text": [
        " 1473\n",
        "percent 93\n",
        "upvotes 1369\n",
        "downvotes 103\n",
        "time 2015-04-02T19:06:36+00:00\n",
        "fetching info for http://www.reddit.com/r/nosleep/comments/317g66/not_everyone_who_enters_mrs_aras_garden_leaves/\n",
        "title "
       ]
      },
      {
       "output_type": "stream",
       "stream": "stdout",
       "text": [
        " Not Everyone Who Enters Mrs. Ara's Garden Leaves : nosleep\n",
        "votes "
       ]
      },
      {
       "output_type": "stream",
       "stream": "stdout",
       "text": [
        " 78\n",
        "percent 93\n",
        "upvotes 72\n",
        "downvotes 5\n",
        "time 2015-04-02T16:24:41+00:00\n",
        "fetching info for http://www.reddit.com/r/todayilearned/comments/317wdw/til_the_gnarls_barkley_song_crazy_topped_the_uk/\n",
        "title "
       ]
      },
      {
       "output_type": "stream",
       "stream": "stdout",
       "text": [
        " TIL The Gnarls Barkley song 'Crazy' topped the UK charts for so long it was eventually pulled so people would &quot;remember the song fondly and not get sick of it.&quot; : todayilearned\n",
        "votes "
       ]
      },
      {
       "output_type": "stream",
       "stream": "stdout",
       "text": [
        " 995\n",
        "percent 93\n",
        "upvotes 925\n",
        "downvotes 69\n",
        "time"
       ]
      },
      {
       "output_type": "stream",
       "stream": "stdout",
       "text": [
        " 2015-04-02T18:30:26+00:00\n",
        "fetching info for http://www.reddit.com/r/aww/comments/31705p/take_your_daughter_to_work_day/\n",
        "title "
       ]
      },
      {
       "output_type": "stream",
       "stream": "stdout",
       "text": [
        " Take your daughter to work day. : aww\n",
        "votes "
       ]
      },
      {
       "output_type": "stream",
       "stream": "stdout",
       "text": [
        " 4008\n",
        "percent"
       ]
      },
      {
       "output_type": "stream",
       "stream": "stdout",
       "text": [
        " 93\n",
        "upvotes 3727\n",
        "downvotes 280\n",
        "time"
       ]
      },
      {
       "output_type": "stream",
       "stream": "stdout",
       "text": [
        " 2015-04-02T07:23:15-07:00\n",
        "fetching info for http://www.reddit.com/r/philosophy/comments/317s60/charlotte_witts_gender_essentialism/\n",
        "title "
       ]
      },
      {
       "output_type": "stream",
       "stream": "stdout",
       "text": [
        " Charlotte Witt's Gender Essentialism : philosophy\n",
        "votes "
       ]
      },
      {
       "output_type": "stream",
       "stream": "stdout",
       "text": [
        " 8\n",
        "percent 65\n",
        "upvotes 5\n",
        "downvotes 2\n",
        "time 2015-04-02T18:02:32+00:00\n",
        "fetching info for http://www.reddit.com/r/science/comments/318ze5/scientists_establish_a_highresolution_3d/\n",
        "title "
       ]
      },
      {
       "output_type": "stream",
       "stream": "stdout",
       "text": [
        " Scientists establish a high-resolution 3D topographical map of molecules and bacteria across human skin including the head, groin, and feet. : science\n",
        "votes "
       ]
      },
      {
       "output_type": "stream",
       "stream": "stdout",
       "text": [
        " 3\n",
        "percent 81\n",
        "upvotes 2\n",
        "downvotes 0\n",
        "time 2015-04-02T23:15:27+00:00\n",
        "fetching info for http://www.reddit.com/r/todayilearned/comments/317hi5/til_smoking_in_the_presence_of_a_child_is/\n",
        "title "
       ]
      },
      {
       "output_type": "stream",
       "stream": "stdout",
       "text": [
        " TIL Smoking in the presence of a child is considered physical abuse in Latvia. : todayilearned\n",
        "votes "
       ]
      },
      {
       "output_type": "stream",
       "stream": "stdout",
       "text": [
        " 3567\n",
        "percent"
       ]
      },
      {
       "output_type": "stream",
       "stream": "stdout",
       "text": [
        " 96\n",
        "upvotes 3424\n",
        "downvotes 142\n",
        "time"
       ]
      },
      {
       "output_type": "stream",
       "stream": "stdout",
       "text": [
        " 2015-04-02T16:34:10+00:00\n",
        "fetching info for http://www.reddit.com/r/photoshopbattles/comments/3163ox/emma_watson_and_her_thumb/\n",
        "title "
       ]
      },
      {
       "output_type": "stream",
       "stream": "stdout",
       "text": [
        " Emma Watson and her thumb. : photoshopbattles\n",
        "votes "
       ]
      },
      {
       "output_type": "stream",
       "stream": "stdout",
       "text": [
        " 3376\n",
        "percent"
       ]
      },
      {
       "output_type": "stream",
       "stream": "stdout",
       "text": [
        " 90\n",
        "upvotes 3038\n",
        "downvotes 337\n",
        "time"
       ]
      },
      {
       "output_type": "stream",
       "stream": "stdout",
       "text": [
        " 2015-04-02T07:37:23+00:00\n",
        "fetching info for http://www.reddit.com/r/tifu/comments/316puo/tip_my_sister_by_convincing_her_she_was_invisible/\n",
        "title "
       ]
      },
      {
       "output_type": "stream",
       "stream": "stdout",
       "text": [
        " TIP my sister by convincing her she was invisible. : tifu\n",
        "votes "
       ]
      },
      {
       "output_type": "stream",
       "stream": "stdout",
       "text": [
        " 3399\n",
        "percent"
       ]
      },
      {
       "output_type": "stream",
       "stream": "stdout",
       "text": [
        " 93\n",
        "upvotes 3161\n",
        "downvotes 237\n",
        "time"
       ]
      },
      {
       "output_type": "stream",
       "stream": "stdout",
       "text": [
        " 2015-04-02T12:52:34+00:00\n",
        "fetching info for http://www.reddit.com/r/todayilearned/comments/317wxc/til_someone_tricked_a_nigerian_scammer_into_hand/\n",
        "title "
       ]
      },
      {
       "output_type": "stream",
       "stream": "stdout",
       "text": [
        " TIL, someone tricked a Nigerian scammer into hand writing an entire Harry Potter novel, the whole 293 pages and scanned with a scan width of 1200 pixel. He offered to pay him $100 per page if he was willing to do the work. : todayilearned\n",
        "votes "
       ]
      },
      {
       "output_type": "stream",
       "stream": "stdout",
       "text": [
        " 1643\n",
        "percent"
       ]
      },
      {
       "output_type": "stream",
       "stream": "stdout",
       "text": [
        " 93\n",
        "upvotes 1527\n",
        "downvotes 115\n",
        "time"
       ]
      },
      {
       "output_type": "stream",
       "stream": "stdout",
       "text": [
        " 2015-04-02T18:34:20+00:00\n",
        "fetching info for http://www.reddit.com/r/history/comments/318ewh/unseen_photos_of_captain_scotts_doomed_polar/\n",
        "title "
       ]
      },
      {
       "output_type": "stream",
       "stream": "stdout",
       "text": [
        " Unseen Photos Of Captain Scott\u2019s Doomed Polar Expedition Hit The Auction Block : history\n",
        "votes "
       ]
      },
      {
       "output_type": "stream",
       "stream": "stdout",
       "text": [
        " 48\n",
        "percent 84\n",
        "upvotes 40\n",
        "downvotes 7\n",
        "time 2015-04-02T20:41:03+00:00\n",
        "fetching info for http://www.reddit.com/r/listentothis/comments/317tmf/ama_hi_its_mike_deni_aka_geographer_here_im_ready/\n",
        "title "
       ]
      },
      {
       "output_type": "stream",
       "stream": "stdout",
       "text": [
        " [AMA] Hi, it's Mike Deni (aka Geographer) here. I'm ready for you - Ask Me Anything : listentothis\n",
        "votes "
       ]
      },
      {
       "output_type": "stream",
       "stream": "stdout",
       "text": [
        " 68\n",
        "percent"
       ]
      },
      {
       "output_type": "stream",
       "stream": "stdout",
       "text": [
        " 86\n",
        "upvotes 58\n",
        "downvotes 9\n",
        "time"
       ]
      },
      {
       "output_type": "stream",
       "stream": "stdout",
       "text": [
        " 2015-04-02T18:11:36+00:00\n",
        "fetching info for http://www.reddit.com/r/AskReddit/comments/318zbu/what_sequel_was_actually_better_than_the_original/\n",
        "title "
       ]
      },
      {
       "output_type": "stream",
       "stream": "stdout",
       "text": [
        " What sequel was actually better than the original? : AskReddit\n",
        "votes "
       ]
      },
      {
       "output_type": "stream",
       "stream": "stdout",
       "text": [
        " 3\n",
        "percent 80\n",
        "upvotes 2\n",
        "downvotes 0\n",
        "time 2015-04-02T23:14:58+00:00\n",
        "fetching info for r/trendingsubreddits/comments/3162tq/trending_subreddits_for_20150402_rthebutton/\n",
        "fetching info for http://www.reddit.com/r/aww/comments/318z5b/el_gato_ensombrerado/\n",
        "title "
       ]
      },
      {
       "output_type": "stream",
       "stream": "stdout",
       "text": [
        " El gato ensombrerado! : aww\n",
        "votes "
       ]
      },
      {
       "output_type": "stream",
       "stream": "stdout",
       "text": [
        " 5\n",
        "percent 79\n",
        "upvotes 3\n",
        "downvotes 1\n",
        "time 2015-04-02T23:13:30+00:00\n",
        "fetching info for http://www.reddit.com/r/Fitness/comments/316tb5/after_eating_cleanhealthy_now_i_feel_sick_when_i/\n",
        "title "
       ]
      },
      {
       "output_type": "stream",
       "stream": "stdout",
       "text": [
        " After eating clean/healthy, now I feel sick when I eat rich/unhealthy food is this normal? : Fitness\n",
        "votes "
       ]
      },
      {
       "output_type": "stream",
       "stream": "stdout",
       "text": [
        " 1098\n",
        "percent"
       ]
      },
      {
       "output_type": "stream",
       "stream": "stdout",
       "text": [
        " 87\n",
        "upvotes 955\n",
        "downvotes 142\n",
        "time"
       ]
      },
      {
       "output_type": "stream",
       "stream": "stdout",
       "text": [
        " 2015-04-02T13:24:34+00:00\n",
        "fetching info for http://www.reddit.com/r/sports/comments/318fst/russian_womens_basketball_player_gets_ejected_for/\n",
        "title "
       ]
      },
      {
       "output_type": "stream",
       "stream": "stdout",
       "text": [
        " Russian Women's Basketball player gets ejected for hard foul : sports\n",
        "votes "
       ]
      },
      {
       "output_type": "stream",
       "stream": "stdout",
       "text": [
        " 127\n",
        "percent 88\n",
        "upvotes 111\n",
        "downvotes 15\n",
        "time"
       ]
      },
      {
       "output_type": "stream",
       "stream": "stdout",
       "text": [
        " 2015-04-02T20:47:26+00:00\n",
        "fetching info for http://www.reddit.com/r/worldnews/comments/316fqc/at_least_15_dead_and_60_wounded_as_alshabab/\n",
        "title "
       ]
      },
      {
       "output_type": "stream",
       "stream": "stdout",
       "text": [
        " At least 15 dead and 60 wounded as Al-Shabab gunmen attack university in Kenya targeting Christians : worldnews\n",
        "votes "
       ]
      },
      {
       "output_type": "stream",
       "stream": "stdout",
       "text": [
        " 4400\n",
        "percent"
       ]
      },
      {
       "output_type": "stream",
       "stream": "stdout",
       "text": [
        " 94\n",
        "upvotes 4136\n",
        "downvotes 264\n",
        "time"
       ]
      },
      {
       "output_type": "stream",
       "stream": "stdout",
       "text": [
        " 2015-04-02T03:49:11-07:00\n",
        "fetching info for http://www.reddit.com/r/funny/comments/316zyc/worst_sequel_ever/\n",
        "title "
       ]
      },
      {
       "output_type": "stream",
       "stream": "stdout",
       "text": [
        " Worst. Sequel. Ever. : funny\n",
        "votes "
       ]
      },
      {
       "output_type": "stream",
       "stream": "stdout",
       "text": [
        " 3413\n",
        "percent 91\n",
        "upvotes 3105\n",
        "downvotes 307\n",
        "time"
       ]
      },
      {
       "output_type": "stream",
       "stream": "stdout",
       "text": [
        " 2015-04-02T14:21:24+00:00\n",
        "fetching info for http://www.reddit.com/r/personalfinance/comments/316vnb/help_my_grandmother_left_us_over_74_000_when_she/\n",
        "title "
       ]
      },
      {
       "output_type": "stream",
       "stream": "stdout",
       "text": [
        " [Help!] My grandmother left us over $74 000 when she passed but we won't even see half of it. : personalfinance\n",
        "votes "
       ]
      },
      {
       "output_type": "stream",
       "stream": "stdout",
       "text": [
        " 605\n",
        "percent"
       ]
      },
      {
       "output_type": "stream",
       "stream": "stdout",
       "text": [
        " 88\n",
        "upvotes 532\n",
        "downvotes 72\n",
        "time"
       ]
      },
      {
       "output_type": "stream",
       "stream": "stdout",
       "text": [
        " 2015-04-02T13:45:28+00:00\n",
        "fetching info for http://www.reddit.com/r/EarthPorn/comments/31872k/harney_peak_in_black_hills_sd_oc_6016x4016/\n",
        "title "
       ]
      },
      {
       "output_type": "stream",
       "stream": "stdout",
       "text": [
        " Harney Peak in Black Hills, SD [OC] [6016x4016] : EarthPorn\n",
        "votes "
       ]
      },
      {
       "output_type": "stream",
       "stream": "stdout",
       "text": [
        " 203\n",
        "percent 93\n",
        "upvotes 188\n",
        "downvotes 14\n",
        "time 2015-04-02T19:44:43+00:00\n",
        "fetching info for http://www.reddit.com/r/UpliftingNews/comments/318doi/so_i_was_born_i_blinked_and_it_was_over_an/\n",
        "title "
       ]
      },
      {
       "output_type": "stream",
       "stream": "stdout",
       "text": [
        " &quot;So... I was born, I blinked and it was over.&quot; An incredible, heartwarming obituary. : UpliftingNews\n",
        "votes "
       ]
      },
      {
       "output_type": "stream",
       "stream": "stdout",
       "text": [
        " 69\n",
        "percent 89\n",
        "upvotes 61\n",
        "downvotes 7\n",
        "time 2015-04-02T20:32:25+00:00\n",
        "fetching info for http://www.reddit.com/r/gifs/comments/317bbw/this_kid_is_going_places/\n",
        "title "
       ]
      },
      {
       "output_type": "stream",
       "stream": "stdout",
       "text": [
        " This kid is going places : gifs\n",
        "votes "
       ]
      },
      {
       "output_type": "stream",
       "stream": "stdout",
       "text": [
        " 4869\n",
        "percent"
       ]
      },
      {
       "output_type": "stream",
       "stream": "stdout",
       "text": [
        " 96\n",
        "upvotes 4674\n",
        "downvotes 194\n",
        "time"
       ]
      },
      {
       "output_type": "stream",
       "stream": "stdout",
       "text": [
        " 2015-04-02T08:48:05-07:00\n",
        "fetching info for http://www.reddit.com/r/gifs/comments/3171yh/hey_guys_watch_this/\n",
        "title "
       ]
      },
      {
       "output_type": "stream",
       "stream": "stdout",
       "text": [
        " Hey guys, watch this : gifs\n",
        "votes "
       ]
      },
      {
       "output_type": "stream",
       "stream": "stdout",
       "text": [
        " 2783\n",
        "percent"
       ]
      },
      {
       "output_type": "stream",
       "stream": "stdout",
       "text": [
        " 92\n",
        "upvotes 2560\n",
        "downvotes 222\n",
        "time"
       ]
      },
      {
       "output_type": "stream",
       "stream": "stdout",
       "text": [
        " 2015-04-02T07:37:28-07:00\n",
        "fetching info for http://www.reddit.com/r/pics/comments/316xxs/hnnnnnnnnnng/\n",
        "title "
       ]
      },
      {
       "output_type": "stream",
       "stream": "stdout",
       "text": [
        " Hnnnnnnnnnng. : pics\n",
        "votes "
       ]
      },
      {
       "output_type": "stream",
       "stream": "stdout",
       "text": [
        " 3752\n",
        "percent"
       ]
      },
      {
       "output_type": "stream",
       "stream": "stdout",
       "text": [
        " 89\n",
        "upvotes 3339\n",
        "downvotes 412\n",
        "time"
       ]
      },
      {
       "output_type": "stream",
       "stream": "stdout",
       "text": [
        " 2015-04-02T14:04:48+00:00\n",
        "fetching info for http://www.reddit.com/r/nosleep/comments/318laz/have_you_ever_heard_of_the_shampe_its_real_this/\n",
        "title "
       ]
      },
      {
       "output_type": "stream",
       "stream": "stdout",
       "text": [
        " Have you ever heard of the Shampe? It's real. This is my story. PART 4 : nosleep\n",
        "votes "
       ]
      },
      {
       "output_type": "stream",
       "stream": "stdout",
       "text": [
        " 51\n",
        "percent 89\n",
        "upvotes 45\n",
        "downvotes 5\n",
        "time"
       ]
      },
      {
       "output_type": "stream",
       "stream": "stdout",
       "text": [
        " 2015-04-02T21:27:43+00:00\n",
        "fetching info for http://www.reddit.com/r/creepy/comments/316j3j/stephen_king_standing_at_the_gate_of_his_house_in/\n",
        "title "
       ]
      },
      {
       "output_type": "stream",
       "stream": "stdout",
       "text": [
        " Stephen King standing at the gate of his house in Bangor, Maine. : creepy\n",
        "votes "
       ]
      },
      {
       "output_type": "stream",
       "stream": "stdout",
       "text": [
        " 3529\n",
        "percent"
       ]
      },
      {
       "output_type": "stream",
       "stream": "stdout",
       "text": [
        " 91\n",
        "upvotes 3211\n",
        "downvotes 317\n",
        "time"
       ]
      },
      {
       "output_type": "stream",
       "stream": "stdout",
       "text": [
        " 2015-04-02T11:35:58+00:00\n",
        "fetching info for http://www.reddit.com/r/nosleep/comments/31764l/correspondence33/\n",
        "title "
       ]
      },
      {
       "output_type": "stream",
       "stream": "stdout",
       "text": [
        " correspondence.33 : nosleep\n",
        "votes "
       ]
      },
      {
       "output_type": "stream",
       "stream": "stdout",
       "text": [
        " 216\n",
        "percent 89\n",
        "upvotes 192\n",
        "downvotes 23\n",
        "time"
       ]
      },
      {
       "output_type": "stream",
       "stream": "stdout",
       "text": [
        " 2015-04-02T15:09:35+00:00\n",
        "fetching info for http://www.reddit.com/r/Art/comments/318y4l/the_investigatipn_stanislaw_fernandes_1976/\n",
        "title "
       ]
      },
      {
       "output_type": "stream",
       "stream": "stdout",
       "text": [
        " &quot;The Investigatipn.&quot; Stanislaw Fernandes, 1976. : Art\n",
        "votes "
       ]
      },
      {
       "output_type": "stream",
       "stream": "stdout",
       "text": [
        " 1\n",
        "percent 100\n",
        "upvotes 1\n",
        "downvotes 0\n",
        "time 2015-04-02T23:04:37+00:00\n",
        "fetching info for http://www.reddit.com/r/todayilearned/comments/3184cm/til_in_nordic_countries_there_is_a_unique/\n",
        "title "
       ]
      },
      {
       "output_type": "stream",
       "stream": "stdout",
       "text": [
        " TIL in Nordic countries there is a unique &quot;free-to-roam&quot; right which allows you to trespass, camp, fish and pick berries on public and private lands. : todayilearned\n",
        "votes "
       ]
      },
      {
       "output_type": "stream",
       "stream": "stdout",
       "text": [
        " 1314\n",
        "percent"
       ]
      },
      {
       "output_type": "stream",
       "stream": "stdout",
       "text": [
        " 94\n",
        "upvotes 1235\n",
        "downvotes 78\n",
        "time"
       ]
      },
      {
       "output_type": "stream",
       "stream": "stdout",
       "text": [
        " 2015-04-02T19:25:41+00:00\n",
        "fetching info for http://www.reddit.com/r/nosleep/comments/317aun/i_tried_geocaching_and_now_im_going_to_die/\n",
        "title "
       ]
      },
      {
       "output_type": "stream",
       "stream": "stdout",
       "text": [
        " I tried geocaching and now I'm going to die : nosleep\n",
        "votes "
       ]
      },
      {
       "output_type": "stream",
       "stream": "stdout",
       "text": [
        " 169\n",
        "percent 82\n",
        "upvotes 138\n",
        "downvotes 30\n",
        "time"
       ]
      },
      {
       "output_type": "stream",
       "stream": "stdout",
       "text": [
        " 2015-04-02T15:44:25+00:00\n",
        "fetching info for http://www.reddit.com/r/aww/comments/316fbz/no_i_wasnt_playing_in_the_grass_clippings_why_do/\n",
        "title "
       ]
      },
      {
       "output_type": "stream",
       "stream": "stdout",
       "text": [
        " No I wasn't playing in the grass clippings! Why do you ask? : aww\n",
        "votes "
       ]
      },
      {
       "output_type": "stream",
       "stream": "stdout",
       "text": [
        " 4341\n",
        "percent"
       ]
      },
      {
       "output_type": "stream",
       "stream": "stdout",
       "text": [
        " 96\n",
        "upvotes 4167\n",
        "downvotes 173\n",
        "time"
       ]
      },
      {
       "output_type": "stream",
       "stream": "stdout",
       "text": [
        " 2015-04-02T10:42:54+00:00\n",
        "fetching info for http://www.reddit.com/r/videos/comments/3172j1/math_professor_pranks_his_class_once_again/\n",
        "title "
       ]
      },
      {
       "output_type": "stream",
       "stream": "stdout",
       "text": [
        " Math professor pranks his class once again! : videos\n",
        "votes "
       ]
      },
      {
       "output_type": "stream",
       "stream": "stdout",
       "text": [
        " 5301\n",
        "percent"
       ]
      },
      {
       "output_type": "stream",
       "stream": "stdout",
       "text": [
        " 97\n",
        "upvotes 5141\n",
        "downvotes 159\n",
        "time"
       ]
      },
      {
       "output_type": "stream",
       "stream": "stdout",
       "text": [
        " 2015-04-02T07:42:20-07:00\n",
        "fetching info for http://www.reddit.com/r/aww/comments/318z11/i_love_turtles_snapshot_from_my_snorkeling_last/\n",
        "title "
       ]
      },
      {
       "output_type": "stream",
       "stream": "stdout",
       "text": [
        " &quot;I love turtles&quot;! -snapshot from my snorkeling last week. He's so cute for being soo big! : aww\n",
        "votes "
       ]
      },
      {
       "output_type": "stream",
       "stream": "stdout",
       "text": [
        " 1\n",
        "percent 100\n",
        "upvotes 1\n",
        "downvotes 0\n",
        "time 2015-04-02T23:12:33+00:00\n",
        "fetching info for http://www.reddit.com/r/AskReddit/comments/318zb0/whats_the_worst_thing_about_your_favourite/\n",
        "title "
       ]
      },
      {
       "output_type": "stream",
       "stream": "stdout",
       "text": [
        " What's the worst thing about your favourite movie/TV show/game? : AskReddit\n",
        "votes "
       ]
      },
      {
       "output_type": "stream",
       "stream": "stdout",
       "text": [
        " 1\n",
        "percent 67\n",
        "upvotes 0\n",
        "downvotes 0\n",
        "time 2015-04-02T23:14:46+00:00\n",
        "fetching info for http://www.reddit.com/r/UpliftingNews/comments/317mek/8yearold_girl_writes_the_president_asking_him_to/\n",
        "title "
       ]
      },
      {
       "output_type": "stream",
       "stream": "stdout",
       "text": [
        " 8-year-old girl writes the President asking him to put women on currency resulting in a personal reply from Obama himself : UpliftingNews\n",
        "votes "
       ]
      },
      {
       "output_type": "stream",
       "stream": "stdout",
       "text": [
        " 155\n",
        "percent 80\n",
        "upvotes 124\n",
        "downvotes 31\n",
        "time"
       ]
      },
      {
       "output_type": "stream",
       "stream": "stdout",
       "text": [
        " 2015-04-02T17:10:02+00:00\n",
        "fetching info for http://www.reddit.com/r/EarthPorn/comments/315ch5/sunrise_on_a_frozen_lake_michigan_chicago_oc/\n",
        "title "
       ]
      },
      {
       "output_type": "stream",
       "stream": "stdout",
       "text": [
        " Sunrise on a frozen Lake Michigan, Chicago. [OC] [2048x1263] : EarthPorn\n",
        "votes "
       ]
      },
      {
       "output_type": "stream",
       "stream": "stdout",
       "text": [
        " 4359\n",
        "percent"
       ]
      },
      {
       "output_type": "stream",
       "stream": "stdout",
       "text": [
        " 97\n",
        "upvotes 4228\n",
        "downvotes 130\n",
        "time"
       ]
      },
      {
       "output_type": "stream",
       "stream": "stdout",
       "text": [
        " 2015-04-02T02:51:30+00:00\n",
        "fetching info for http://www.reddit.com/r/aww/comments/316o6u/first_day_of_guide_dog_school/\n",
        "title "
       ]
      },
      {
       "output_type": "stream",
       "stream": "stdout",
       "text": [
        " First day of guide dog school : aww\n",
        "votes "
       ]
      },
      {
       "output_type": "stream",
       "stream": "stdout",
       "text": [
        " 3877\n",
        "percent 96\n",
        "upvotes 3721\n",
        "downvotes 155\n",
        "time"
       ]
      },
      {
       "output_type": "stream",
       "stream": "stdout",
       "text": [
        " 2015-04-02T12:36:01+00:00\n",
        "fetching info for http://www.reddit.com/r/mildlyinteresting/comments/318yxh/3d_printed_dogecoin_attempt_1/\n",
        "title "
       ]
      },
      {
       "output_type": "stream",
       "stream": "stdout",
       "text": [
        " 3D Printed Dogecoin - attempt 1 : mildlyinteresting\n",
        "votes "
       ]
      },
      {
       "output_type": "stream",
       "stream": "stdout",
       "text": [
        " 1\n",
        "percent 100\n",
        "upvotes 1\n",
        "downvotes 0\n",
        "time 2015-04-02T23:11:43+00:00\n",
        "fetching info for http://www.reddit.com/r/AskReddit/comments/318zdy/what_was_the_best_april_fools_joke_from_a/\n",
        "title "
       ]
      },
      {
       "output_type": "stream",
       "stream": "stdout",
       "text": [
        " What was the best April Fool's joke from a subreddit this year? : AskReddit\n",
        "votes "
       ]
      },
      {
       "output_type": "stream",
       "stream": "stdout",
       "text": [
        " 3\n",
        "percent 80\n",
        "upvotes 2\n",
        "downvotes 0\n",
        "time 2015-04-02T23:15:25+00:00\n",
        "fetching info for http://www.reddit.com/r/worldnews/comments/317ven/iran_nuclear_deal_reached_after_eight_straight/\n",
        "title "
       ]
      },
      {
       "output_type": "stream",
       "stream": "stdout",
       "text": [
        " Iran Nuclear Deal Reached. After eight straight days of high-level diplomatic negotiations between the six world powers and Iran, negotiators announced an interim agreement has been reached on the principles for dismantling Iran's nuclear program in exchange for lifting heavy economic sanctions. : worldnews\n",
        "votes "
       ]
      },
      {
       "output_type": "stream",
       "stream": "stdout",
       "text": [
        " 2474\n",
        "percent"
       ]
      },
      {
       "output_type": "stream",
       "stream": "stdout",
       "text": [
        " 94\n",
        "upvotes 2325\n",
        "downvotes 148\n",
        "time"
       ]
      },
      {
       "output_type": "stream",
       "stream": "stdout",
       "text": [
        " 2015-04-02T18:23:51+00:00\n",
        "fetching info for http://www.reddit.com/r/TwoXChromosomes/comments/317tm5/rain_dove_busty_yet_androgynous_model/\n",
        "title "
       ]
      },
      {
       "output_type": "stream",
       "stream": "stdout",
       "text": [
        " Rain Dove - busty yet androgynous model. : TwoXChromosomes\n",
        "votes "
       ]
      },
      {
       "output_type": "stream",
       "stream": "stdout",
       "text": [
        " 230\n",
        "percent 84\n",
        "upvotes 193\n",
        "downvotes 36\n",
        "time 2015-04-02T18:11:32+00:00\n",
        "fetching info for http://www.reddit.com/r/dataisbeautiful/comments/317a6i/steep_decline_in_foreign_adoptions_by_americans/\n",
        "title "
       ]
      },
      {
       "output_type": "stream",
       "stream": "stdout",
       "text": [
        " Steep Decline in Foreign Adoptions by Americans : dataisbeautiful\n",
        "votes "
       ]
      },
      {
       "output_type": "stream",
       "stream": "stdout",
       "text": [
        " 175\n",
        "percent 90\n",
        "upvotes 157\n",
        "downvotes 17\n",
        "time"
       ]
      },
      {
       "output_type": "stream",
       "stream": "stdout",
       "text": [
        " 2015-04-02T15:39:18+00:00\n",
        "fetching info for http://www.reddit.com/r/aww/comments/317vhb/we_had_some_tiny_visitors_in_the_office_today/\n",
        "title "
       ]
      },
      {
       "output_type": "stream",
       "stream": "stdout",
       "text": [
        " We had some tiny visitors in the office today : aww\n",
        "votes "
       ]
      },
      {
       "output_type": "stream",
       "stream": "stdout",
       "text": [
        " 769\n",
        "percent 93\n",
        "upvotes 715\n",
        "downvotes 53\n",
        "time 2015-04-02T18:24:20+00:00\n",
        "fetching info for http://www.reddit.com/r/EarthPorn/comments/316x0j/clear_ice_reflecting_a_beautiful_sunrise_under/\n",
        "title "
       ]
      },
      {
       "output_type": "stream",
       "stream": "stdout",
       "text": [
        " Clear ice reflecting a beautiful sunrise under the peaks at Lago Grey, Patagonia | by Marc Adamus. [2048x1443] : EarthPorn\n",
        "votes "
       ]
      },
      {
       "output_type": "stream",
       "stream": "stdout",
       "text": [
        " 990\n",
        "percent 95\n",
        "upvotes 940\n",
        "downvotes 49\n",
        "time 2015-04-02T13:57:06+00:00\n",
        "fetching info for http://www.reddit.com/r/aww/comments/316wq1/those_treats_are_glutenfree_right/\n",
        "title "
       ]
      },
      {
       "output_type": "stream",
       "stream": "stdout",
       "text": [
        " Those treats are gluten-free right? : aww\n",
        "votes "
       ]
      },
      {
       "output_type": "stream",
       "stream": "stdout",
       "text": [
        " 2234\n",
        "percent 91\n",
        "upvotes 2032\n",
        "downvotes 201\n",
        "time 2015-04-02T13:54:57+00:00\n",
        "fetching info for http://www.reddit.com/r/Showerthoughts/comments/318ye2/i_am_an_asymptomatic_carrier_for_insanity_every/\n",
        "title "
       ]
      },
      {
       "output_type": "stream",
       "stream": "stdout",
       "text": [
        " I am an Asymptomatic Carrier for insanity. Every woman I fuck catches it. : Showerthoughts\n",
        "votes "
       ]
      },
      {
       "output_type": "stream",
       "stream": "stdout",
       "text": [
        " 0\n",
        "percent 33\n",
        "upvotes 0\n",
        "downvotes 0\n",
        "time 2015-04-02T23:06:53+00:00\n",
        "fetching info for http://www.reddit.com/r/worldnews/comments/316sxd/with_1st_nationwide_fracking_law_germany/\n",
        "title "
       ]
      },
      {
       "output_type": "stream",
       "stream": "stdout",
       "text": [
        " With 1st Nationwide Fracking Law, Germany Approaches A Ban - &quot;As long as the risks cannot be fully evaluated, fracking will be banned.&quot; : worldnews\n",
        "votes "
       ]
      },
      {
       "output_type": "stream",
       "stream": "stdout",
       "text": [
        " 4779\n",
        "percent"
       ]
      },
      {
       "output_type": "stream",
       "stream": "stdout",
       "text": [
        " 94\n",
        "upvotes 4492\n",
        "downvotes 286\n",
        "time"
       ]
      },
      {
       "output_type": "stream",
       "stream": "stdout",
       "text": [
        " 2015-04-02T13:21:15+00:00\n",
        "fetching info for http://www.reddit.com/r/funny/comments/3175ps/ron_burgundy_about_justin_bieber/\n",
        "title "
       ]
      },
      {
       "output_type": "stream",
       "stream": "stdout",
       "text": [
        " Ron Burgundy about Justin Bieber : funny\n",
        "votes "
       ]
      },
      {
       "output_type": "stream",
       "stream": "stdout",
       "text": [
        " 3097\n",
        "percent"
       ]
      },
      {
       "output_type": "stream",
       "stream": "stdout",
       "text": [
        " 87\n",
        "upvotes 2694\n",
        "downvotes 402\n",
        "time"
       ]
      },
      {
       "output_type": "stream",
       "stream": "stdout",
       "text": [
        " 2015-04-02T15:06:25+00:00\n",
        "fetching info for http://www.reddit.com/r/Showerthoughts/comments/317g07/tom_cruise_predominantly_plays_characters_that/\n",
        "title "
       ]
      },
      {
       "output_type": "stream",
       "stream": "stdout",
       "text": [
        " Tom Cruise predominantly plays characters that fight / kill aliens, but is a member of a religion that worships aliens as deities. : Showerthoughts\n",
        "votes "
       ]
      },
      {
       "output_type": "stream",
       "stream": "stdout",
       "text": [
        " 3941\n",
        "percent"
       ]
      },
      {
       "output_type": "stream",
       "stream": "stdout",
       "text": [
        " 92\n",
        "upvotes 3625\n",
        "downvotes 315\n",
        "time"
       ]
      },
      {
       "output_type": "stream",
       "stream": "stdout",
       "text": [
        " 2015-04-02T16:23:26+00:00\n",
        "fetching info for http://www.reddit.com/r/funny/comments/3175aj/sensible_chuckle_kanye_doesnt_get_it/\n",
        "title "
       ]
      },
      {
       "output_type": "stream",
       "stream": "stdout",
       "text": [
        " Sensible Chuckle. Kanye doesn't get it. : funny\n",
        "votes "
       ]
      },
      {
       "output_type": "stream",
       "stream": "stdout",
       "text": [
        " 3209\n",
        "percent"
       ]
      },
      {
       "output_type": "stream",
       "stream": "stdout",
       "text": [
        " 86\n",
        "upvotes 2759\n",
        "downvotes 449\n",
        "time"
       ]
      },
      {
       "output_type": "stream",
       "stream": "stdout",
       "text": [
        " 2015-04-02T15:03:18+00:00\n",
        "fetching info for http://www.reddit.com/r/GetMotivated/comments/3173od/image_because_im_happy/\n",
        "title "
       ]
      },
      {
       "output_type": "stream",
       "stream": "stdout",
       "text": [
        " [Image] Because I'm happy :) : GetMotivated\n",
        "votes "
       ]
      },
      {
       "output_type": "stream",
       "stream": "stdout",
       "text": [
        " 1218\n",
        "percent"
       ]
      },
      {
       "output_type": "stream",
       "stream": "stdout",
       "text": [
        " 77\n",
        "upvotes 937\n",
        "downvotes 280\n",
        "time"
       ]
      },
      {
       "output_type": "stream",
       "stream": "stdout",
       "text": [
        " 2015-04-02T14:51:14+00:00\n",
        "fetching info for http://www.reddit.com/r/GetMotivated/comments/3176z0/image_all_things_are_achieved_through_being_calm/\n",
        "title "
       ]
      },
      {
       "output_type": "stream",
       "stream": "stdout",
       "text": [
        " [Image] All things are achieved through being calm and focused : GetMotivated\n",
        "votes "
       ]
      },
      {
       "output_type": "stream",
       "stream": "stdout",
       "text": [
        " 595\n",
        "percent 92\n",
        "upvotes 547\n",
        "downvotes 47\n",
        "time"
       ]
      },
      {
       "output_type": "stream",
       "stream": "stdout",
       "text": [
        " 2015-04-02T15:15:23+00:00\n",
        "fetching info for http://www.reddit.com/r/funny/comments/317q3r/there_may_have_been_a_miscommunication_with_the/\n",
        "title "
       ]
      },
      {
       "output_type": "stream",
       "stream": "stdout",
       "text": [
        " There may have been a miscommunication with the decorator. : funny\n",
        "votes "
       ]
      },
      {
       "output_type": "stream",
       "stream": "stdout",
       "text": [
        " 4824\n",
        "percent"
       ]
      },
      {
       "output_type": "stream",
       "stream": "stdout",
       "text": [
        " 93\n",
        "upvotes 4486\n",
        "downvotes 337\n",
        "time"
       ]
      },
      {
       "output_type": "stream",
       "stream": "stdout",
       "text": [
        " 2015-04-02T17:35:35+00:00\n",
        "fetching info for http://www.reddit.com/r/funny/comments/317dxd/carboat/\n",
        "title "
       ]
      },
      {
       "output_type": "stream",
       "stream": "stdout",
       "text": [
        " CAR-BOAT : funny\n",
        "votes "
       ]
      },
      {
       "output_type": "stream",
       "stream": "stdout",
       "text": [
        " 4301\n",
        "percent"
       ]
      },
      {
       "output_type": "stream",
       "stream": "stdout",
       "text": [
        " 95\n",
        "upvotes 4085\n",
        "downvotes 215\n",
        "time"
       ]
      },
      {
       "output_type": "stream",
       "stream": "stdout",
       "text": [
        " 2015-04-02T16:07:36+00:00\n",
        "fetching info for http://www.reddit.com/r/videos/comments/3176op/the_voice_of_pikachu/\n",
        "title "
       ]
      },
      {
       "output_type": "stream",
       "stream": "stdout",
       "text": [
        " The voice of Pikachu : videos\n",
        "votes "
       ]
      },
      {
       "output_type": "stream",
       "stream": "stdout",
       "text": [
        " 1658\n",
        "percent"
       ]
      },
      {
       "output_type": "stream",
       "stream": "stdout",
       "text": [
        " 87\n",
        "upvotes 1442\n",
        "downvotes 215\n",
        "time"
       ]
      },
      {
       "output_type": "stream",
       "stream": "stdout",
       "text": [
        " 2015-04-02T15:13:26+00:00\n",
        "fetching info for http://www.reddit.com/r/InternetIsBeautiful/comments/316uao/noise_generator_just_listen_to_white_noise/\n",
        "title "
       ]
      },
      {
       "output_type": "stream",
       "stream": "stdout",
       "text": [
        " Noise generator. Just listen to white noise. relaxing. : InternetIsBeautiful\n",
        "votes "
       ]
      },
      {
       "output_type": "stream",
       "stream": "stdout",
       "text": [
        " 275\n",
        "percent 85\n",
        "upvotes 233\n",
        "downvotes 41\n",
        "time"
       ]
      },
      {
       "output_type": "stream",
       "stream": "stdout",
       "text": [
        " 2015-04-02T13:33:28+00:00\n",
        "fetching info for http://www.reddit.com/r/Jokes/comments/318ywu/i_had_shepherds_pie_for_dinner/\n",
        "title "
       ]
      },
      {
       "output_type": "stream",
       "stream": "stdout",
       "text": [
        " I had Shepherd's pie for dinner... : Jokes\n",
        "votes "
       ]
      },
      {
       "output_type": "stream",
       "stream": "stdout",
       "text": [
        " 1\n",
        "percent 100\n",
        "upvotes 1\n",
        "downvotes 0\n",
        "time 2015-04-02T23:11:37+00:00\n",
        "fetching info for http://www.reddit.com/r/AskReddit/comments/316oxn/people_who_were_around_before_the_internet_what/\n",
        "title "
       ]
      },
      {
       "output_type": "stream",
       "stream": "stdout",
       "text": [
        " People who were around before the Internet, what did you initially think about it? How did you get used to it? : AskReddit\n",
        "votes "
       ]
      },
      {
       "output_type": "stream",
       "stream": "stdout",
       "text": [
        " 2270\n",
        "percent"
       ]
      },
      {
       "output_type": "stream",
       "stream": "stdout",
       "text": [
        " 89\n",
        "upvotes 2020\n",
        "downvotes 249\n",
        "time"
       ]
      },
      {
       "output_type": "stream",
       "stream": "stdout",
       "text": [
        " 2015-04-02T12:43:34+00:00\n",
        "fetching info for http://www.reddit.com/r/Showerthoughts/comments/318yl4/idea_for_a_gay_bar_name_large_hardon_collider/\n",
        "title "
       ]
      },
      {
       "output_type": "stream",
       "stream": "stdout",
       "text": [
        " Idea for a gay bar name: large hardon collider. : Showerthoughts\n",
        "votes "
       ]
      },
      {
       "output_type": "stream",
       "stream": "stdout",
       "text": [
        " 1\n",
        "percent 67\n",
        "upvotes 0\n",
        "downvotes 0\n",
        "time 2015-04-02T23:08:36+00:00\n",
        "fetching info for http://www.reddit.com/r/sports/comments/31819m/sim_bhullar_becomes_first_player_of_indian/\n",
        "title "
       ]
      },
      {
       "output_type": "stream",
       "stream": "stdout",
       "text": [
        " Sim Bhullar becomes first player of Indian descent on NBA roster : sports\n",
        "votes "
       ]
      },
      {
       "output_type": "stream",
       "stream": "stdout",
       "text": [
        " 138\n",
        "percent 84\n",
        "upvotes 115\n",
        "downvotes 22\n",
        "time 2015-04-02T19:04:37+00:00\n",
        "fetching info for http://www.reddit.com/r/videos/comments/3173ch/this_still_exists_in_2015/\n",
        "title "
       ]
      },
      {
       "output_type": "stream",
       "stream": "stdout",
       "text": [
        " This still exists in 2015 : videos\n",
        "votes "
       ]
      },
      {
       "output_type": "stream",
       "stream": "stdout",
       "text": [
        " 3370\n",
        "percent"
       ]
      },
      {
       "output_type": "stream",
       "stream": "stdout",
       "text": [
        " 84\n",
        "upvotes 2830\n",
        "downvotes 539\n",
        "time"
       ]
      },
      {
       "output_type": "stream",
       "stream": "stdout",
       "text": [
        " 2015-04-02T07:48:31-07:00\n",
        "fetching info for http://www.reddit.com/r/pics/comments/316pfa/every_spring_the_goose_king_returns_to_his_throne/\n",
        "title "
       ]
      },
      {
       "output_type": "stream",
       "stream": "stdout",
       "text": [
        " Every spring, the Goose King returns to his throne outside my office... : pics\n",
        "votes "
       ]
      },
      {
       "output_type": "stream",
       "stream": "stdout",
       "text": [
        " 4595\n",
        "percent"
       ]
      },
      {
       "output_type": "stream",
       "stream": "stdout",
       "text": [
        " 96\n",
        "upvotes 4411\n",
        "downvotes 183\n",
        "time"
       ]
      },
      {
       "output_type": "stream",
       "stream": "stdout",
       "text": [
        " 2015-04-02T12:48:13+00:00\n",
        "fetching info for http://www.reddit.com/r/pics/comments/317x08/this_duck_likes_to_sit_on_his_behind/\n",
        "title "
       ]
      },
      {
       "output_type": "stream",
       "stream": "stdout",
       "text": [
        " This duck likes to sit on his behind : pics\n",
        "votes "
       ]
      },
      {
       "output_type": "stream",
       "stream": "stdout",
       "text": [
        " 4884\n",
        "percent"
       ]
      },
      {
       "output_type": "stream",
       "stream": "stdout",
       "text": [
        " 95\n",
        "upvotes 4639\n",
        "downvotes 244\n",
        "time"
       ]
      },
      {
       "output_type": "stream",
       "stream": "stdout",
       "text": [
        " 2015-04-02T18:34:50+00:00\n",
        "fetching info for http://www.reddit.com/r/gifs/comments/316r64/panda_cub_needs_help_coming_down_from_a_tree/\n",
        "title "
       ]
      },
      {
       "output_type": "stream",
       "stream": "stdout",
       "text": [
        " Panda cub needs help coming down from a tree. : gifs\n",
        "votes "
       ]
      },
      {
       "output_type": "stream",
       "stream": "stdout",
       "text": [
        " 4779\n",
        "percent"
       ]
      },
      {
       "output_type": "stream",
       "stream": "stdout",
       "text": [
        " 97\n",
        "upvotes 4635\n",
        "downvotes 143\n",
        "time"
       ]
      },
      {
       "output_type": "stream",
       "stream": "stdout",
       "text": [
        " 2015-04-02T13:05:17+00:00\n",
        "fetching info for http://www.reddit.com/r/explainlikeimfive/comments/3171gr/eli5_how_does_the_united_states_run_on_a_deficit/\n",
        "title "
       ]
      },
      {
       "output_type": "stream",
       "stream": "stdout",
       "text": [
        " ELI5: How does the United States run on a deficit, and what does that ACTUALLY mean for the future? : explainlikeimfive\n",
        "votes "
       ]
      },
      {
       "output_type": "stream",
       "stream": "stdout",
       "text": [
        " 2248\n",
        "percent"
       ]
      },
      {
       "output_type": "stream",
       "stream": "stdout",
       "text": [
        " 89\n",
        "upvotes 2000\n",
        "downvotes 247\n",
        "time"
       ]
      },
      {
       "output_type": "stream",
       "stream": "stdout",
       "text": [
        " 2015-04-02T07:33:38-07:00\n",
        "fetching info for http://www.reddit.com/r/news/comments/316q4v/indiana_pizzeria_closes_over_backlash_from_owners/\n",
        "title "
       ]
      },
      {
       "output_type": "stream",
       "stream": "stdout",
       "text": [
        " Indiana Pizzeria Closes Over Backlash From Owner\u2019s Anti-Gay Remarks to Media : news\n",
        "votes "
       ]
      },
      {
       "output_type": "stream",
       "stream": "stdout",
       "text": [
        " 2730\n",
        "percent"
       ]
      },
      {
       "output_type": "stream",
       "stream": "stdout",
       "text": [
        " 90\n",
        "upvotes 2457\n",
        "downvotes 273\n",
        "time"
       ]
      },
      {
       "output_type": "stream",
       "stream": "stdout",
       "text": [
        " 2015-04-02T05:55:44-07:00\n",
        "fetching info for http://www.reddit.com/r/Showerthoughts/comments/318yjw/jesus_has_a_3day_respawn_timer/\n",
        "title "
       ]
      },
      {
       "output_type": "stream",
       "stream": "stdout",
       "text": [
        " Jesus has a 3-day respawn timer. : Showerthoughts\n",
        "votes "
       ]
      },
      {
       "output_type": "stream",
       "stream": "stdout",
       "text": [
        " 2\n",
        "percent 100\n",
        "upvotes 2\n",
        "downvotes 0\n",
        "time 2015-04-02T23:08:17+00:00\n",
        "fetching info for http://www.reddit.com/r/mildlyinteresting/comments/316oml/our_waiter_balanced_forks_on_toothpicks/\n",
        "title "
       ]
      },
      {
       "output_type": "stream",
       "stream": "stdout",
       "text": [
        " Our waiter balanced forks on toothpicks : mildlyinteresting\n",
        "votes "
       ]
      },
      {
       "output_type": "stream",
       "stream": "stdout",
       "text": [
        " 4057\n",
        "percent"
       ]
      },
      {
       "output_type": "stream",
       "stream": "stdout",
       "text": [
        " 94\n",
        "upvotes 3813\n",
        "downvotes 243\n",
        "time"
       ]
      },
      {
       "output_type": "stream",
       "stream": "stdout",
       "text": [
        " 2015-04-02T12:40:35+00:00\n",
        "fetching info for http://www.reddit.com/r/movies/comments/317kem/tom_hardy_says_hes_attached_to_3_more_mad_max/\n",
        "title "
       ]
      },
      {
       "output_type": "stream",
       "stream": "stdout",
       "text": [
        " Tom Hardy Says He's Attached To 3 More 'Mad Max' Films, Calls 'Fury Road' &quot;Fucking Unbelievable&quot; : movies\n",
        "votes "
       ]
      },
      {
       "output_type": "stream",
       "stream": "stdout",
       "text": [
        " 3561\n",
        "percent"
       ]
      },
      {
       "output_type": "stream",
       "stream": "stdout",
       "text": [
        " 94\n",
        "upvotes 3347\n",
        "downvotes 213\n",
        "time"
       ]
      },
      {
       "output_type": "stream",
       "stream": "stdout",
       "text": [
        " 2015-04-02T09:55:34-07:00\n",
        "fetching info for http://www.reddit.com/r/aww/comments/318z1i/a_jaguar_and_a_panther_napping_together_at/\n",
        "title "
       ]
      },
      {
       "output_type": "stream",
       "stream": "stdout",
       "text": [
        " A jaguar and a panther napping together at Chester Zoo : aww\n",
        "votes "
       ]
      },
      {
       "output_type": "stream",
       "stream": "stdout",
       "text": [
        " 3\n",
        "percent 100\n",
        "upvotes 3\n",
        "downvotes 0\n",
        "time 2015-04-02T23:12:37+00:00\n",
        "fetching info for http://www.reddit.com/r/nottheonion/comments/316qir/bill_bans_fake_guns_not_real_ones_near_tennessee/\n",
        "title "
       ]
      },
      {
       "output_type": "stream",
       "stream": "stdout",
       "text": [
        " Bill bans fake guns - not real ones - near Tennessee schools : nottheonion\n",
        "votes "
       ]
      },
      {
       "output_type": "stream",
       "stream": "stdout",
       "text": [
        " 1266\n",
        "percent"
       ]
      },
      {
       "output_type": "stream",
       "stream": "stdout",
       "text": [
        " 88\n",
        "upvotes 1114\n",
        "downvotes 151\n",
        "time"
       ]
      },
      {
       "output_type": "stream",
       "stream": "stdout",
       "text": [
        " 2015-04-02T12:59:18+00:00\n",
        "fetching info for http://www.reddit.com/r/movies/comments/318z34/why_is_the_fast_and_furious_franchise_more_liked/\n",
        "title "
       ]
      },
      {
       "output_type": "stream",
       "stream": "stdout",
       "text": [
        " Why is the Fast and Furious franchise more liked than the Transformers franchise when both franchises have movies with over the top action scenes ? : movies\n",
        "votes "
       ]
      },
      {
       "output_type": "stream",
       "stream": "stdout",
       "text": [
        " 1\n",
        "percent 67\n",
        "upvotes 0\n",
        "downvotes 0\n",
        "time 2015-04-02T23:13:01+00:00\n",
        "fetching info for http://www.reddit.com/r/gifs/comments/318zcw/booshh/\n",
        "title "
       ]
      },
      {
       "output_type": "stream",
       "stream": "stdout",
       "text": [
        " BOOSHH... : gifs\n",
        "votes "
       ]
      },
      {
       "output_type": "stream",
       "stream": "stdout",
       "text": [
        " 1\n",
        "percent 57\n",
        "upvotes 0\n",
        "downvotes 0\n",
        "time 2015-04-02T23:15:12+00:00\n",
        "fetching info for http://www.reddit.com/r/LifeProTips/comments/317nn1/lpt_get_a_discount_every_time_you_shop_at_major/\n",
        "title "
       ]
      },
      {
       "output_type": "stream",
       "stream": "stdout",
       "text": [
        " LPT: Get a discount EVERY TIME you shop at major clothing outlets. : LifeProTips\n",
        "votes "
       ]
      },
      {
       "output_type": "stream",
       "stream": "stdout",
       "text": [
        " 1048\n",
        "percent 89\n",
        "upvotes 932\n",
        "downvotes 115\n",
        "time"
       ]
      },
      {
       "output_type": "stream",
       "stream": "stdout",
       "text": [
        " 2015-04-02T17:18:39+00:00\n",
        "fetching info for http://www.reddit.com/r/sports/comments/317pc3/the_norwegians_have_made_a_sport_out_of_belly/\n",
        "title "
       ]
      },
      {
       "output_type": "stream",
       "stream": "stdout",
       "text": [
        " The Norwegians have made a sport out of belly flopping (&quot;D\u00f8dsing&quot;) : sports\n",
        "votes "
       ]
      },
      {
       "output_type": "stream",
       "stream": "stdout",
       "text": [
        " 295\n",
        "percent"
       ]
      },
      {
       "output_type": "stream",
       "stream": "stdout",
       "text": [
        " 77\n",
        "upvotes 227\n",
        "downvotes 67\n",
        "time"
       ]
      },
      {
       "output_type": "stream",
       "stream": "stdout",
       "text": [
        " 2015-04-02T17:30:34+00:00\n",
        "fetching info for http://www.reddit.com/r/todayilearned/comments/318zas/til_that_after_erasure_released_an_ep_of_abba/\n",
        "title "
       ]
      },
      {
       "output_type": "stream",
       "stream": "stdout",
       "text": [
        " TIL that after Erasure released an EP of Abba covers called &quot;Abba-esque&quot;, the Abba tribute band Bj\u00f6rn Again responded with an EP of Erasure covers called &quot;Erasure-ish&quot;. : todayilearned\n",
        "votes "
       ]
      },
      {
       "output_type": "stream",
       "stream": "stdout",
       "text": [
        " 2\n",
        "percent 100\n",
        "upvotes 2\n",
        "downvotes 0\n",
        "time 2015-04-02T23:14:41+00:00\n",
        "fetching info for http://www.reddit.com/r/nosleep/comments/317wcs/mayhem_mountain/\n",
        "title "
       ]
      },
      {
       "output_type": "stream",
       "stream": "stdout",
       "text": [
        " Mayhem Mountain : nosleep\n",
        "votes "
       ]
      },
      {
       "output_type": "stream",
       "stream": "stdout",
       "text": [
        " 91\n",
        "percent 96\n",
        "upvotes 87\n",
        "downvotes 3\n",
        "time 2015-04-02T18:30:15+00:00\n",
        "fetching info for http://www.reddit.com/r/Jokes/comments/318zay/i_was_out_and_about_when_i_saw_my_ex_girlfriend/\n",
        "title "
       ]
      },
      {
       "output_type": "stream",
       "stream": "stdout",
       "text": [
        " I was out and about when I saw my ex girlfriend with a new man. She saw me and came over : Jokes\n",
        "votes "
       ]
      },
      {
       "output_type": "stream",
       "stream": "stdout",
       "text": [
        " 1\n",
        "percent 100\n",
        "upvotes 1\n",
        "downvotes 0\n",
        "time 2015-04-02T23:14:46+00:00\n",
        "fetching info for http://www.reddit.com/r/aww/comments/316emo/baby_fennec_fox/\n",
        "title "
       ]
      },
      {
       "output_type": "stream",
       "stream": "stdout",
       "text": [
        " Baby fennec fox. : aww\n",
        "votes "
       ]
      },
      {
       "output_type": "stream",
       "stream": "stdout",
       "text": [
        " 2818\n",
        "percent 97\n",
        "upvotes 2733\n",
        "downvotes 84\n",
        "time 2015-04-02T10:31:58+00:00\n",
        "fetching info for http://www.reddit.com/r/mildlyinteresting/comments/3170jy/i_found_a_shoe_lace_in_my_chips_ahoy/\n",
        "title "
       ]
      },
      {
       "output_type": "stream",
       "stream": "stdout",
       "text": [
        " I found a shoe lace in my Chips ahoy : mildlyinteresting\n",
        "votes "
       ]
      },
      {
       "output_type": "stream",
       "stream": "stdout",
       "text": [
        " 1489\n",
        "percent"
       ]
      },
      {
       "output_type": "stream",
       "stream": "stdout",
       "text": [
        " 91\n",
        "upvotes 1354\n",
        "downvotes 134\n",
        "time"
       ]
      },
      {
       "output_type": "stream",
       "stream": "stdout",
       "text": [
        " 2015-04-02T07:26:38-07:00\n",
        "fetching info for http://www.reddit.com/r/nosleep/comments/3165rq/found_a_video_camera_in_a_hidden_room_in_my/\n",
        "title "
       ]
      },
      {
       "output_type": "stream",
       "stream": "stdout",
       "text": [
        " Found a video camera in a hidden room in my closet. There's lots of movies on it. I'm in one of them. [PART 2] : nosleep\n",
        "votes "
       ]
      },
      {
       "output_type": "stream",
       "stream": "stdout",
       "text": [
        " 397\n",
        "percent 88\n",
        "upvotes 349\n",
        "downvotes 47\n",
        "time"
       ]
      },
      {
       "output_type": "stream",
       "stream": "stdout",
       "text": [
        " 2015-04-02T08:10:08+00:00\n",
        "fetching info for http://www.reddit.com/r/videos/comments/317d8x/price_is_right_model_gives_away_a_car_by_mistake/\n",
        "title "
       ]
      },
      {
       "output_type": "stream",
       "stream": "stdout",
       "text": [
        " Price Is Right model gives away a car by mistake. : videos\n",
        "votes "
       ]
      },
      {
       "output_type": "stream",
       "stream": "stdout",
       "text": [
        " 1875\n",
        "percent"
       ]
      },
      {
       "output_type": "stream",
       "stream": "stdout",
       "text": [
        " 94\n",
        "upvotes 1762\n",
        "downvotes 112\n",
        "time"
       ]
      },
      {
       "output_type": "stream",
       "stream": "stdout",
       "text": [
        " 2015-04-02T09:02:22-07:00\n",
        "fetching info for http://www.reddit.com/r/listentothis/comments/315cjb/the_hardest_song_ever_to_grace_a_childrens_movie/\n",
        "title "
       ]
      },
      {
       "output_type": "stream",
       "stream": "stdout",
       "text": [
        " The hardest song ever to grace a childrens movie soundtrack : listentothis\n",
        "votes "
       ]
      },
      {
       "output_type": "stream",
       "stream": "stdout",
       "text": [
        " 1566\n",
        "percent"
       ]
      },
      {
       "output_type": "stream",
       "stream": "stdout",
       "text": [
        " 93\n",
        "upvotes 1456\n",
        "downvotes 109\n",
        "time"
       ]
      },
      {
       "output_type": "stream",
       "stream": "stdout",
       "text": [
        " 2015-04-01T19:51:58-07:00\n",
        "fetching info for http://www.reddit.com/r/books/comments/316wp1/a_reader_lives_a_thousand_lives_before_he_dies/\n",
        "title "
       ]
      },
      {
       "output_type": "stream",
       "stream": "stdout",
       "text": [
        " \u201cA reader lives a thousand lives before he dies,\u201d said Jojen. \u201cThe man who never reads lives only one. : books\n",
        "votes "
       ]
      },
      {
       "output_type": "stream",
       "stream": "stdout",
       "text": [
        " 3543\n",
        "percent"
       ]
      },
      {
       "output_type": "stream",
       "stream": "stdout",
       "text": [
        " 90\n",
        "upvotes 3188\n",
        "downvotes 354\n",
        "time"
       ]
      },
      {
       "output_type": "stream",
       "stream": "stdout",
       "text": [
        " 2015-04-02T06:54:41-07:00\n",
        "                                   date  downvotes  \\\n",
        "2015-04-02 21:13:06 2015-04-02 21:13:06         12   \n",
        "2015-04-02 23:14:35 2015-04-02 23:14:35          0   \n",
        "2015-04-02 11:26:32 2015-04-02 11:26:32        191   \n",
        "2015-04-02 23:08:23 2015-04-02 23:08:23          0   \n",
        "2015-04-02 16:24:07 2015-04-02 16:24:07         27   \n",
        "2015-04-02 15:32:03 2015-04-02 15:32:03        283   \n",
        "2015-04-02 13:06:21 2015-04-02 13:06:21         30   \n",
        "2015-04-02 16:40:09 2015-04-02 16:40:09          4   \n",
        "2015-04-02 16:15:39 2015-04-02 16:15:39         42   \n",
        "2015-04-02 13:47:43 2015-04-02 13:47:43        175   \n",
        "2015-04-02 17:16:05 2015-04-02 17:16:05         52   \n",
        "2015-04-02 16:27:39 2015-04-02 16:27:39        167   \n",
        "2015-04-02 08:14:42 2015-04-02 08:14:42        132   \n",
        "2015-04-02 14:23:55 2015-04-02 14:23:55        320   \n",
        "2015-04-02 09:45:35 2015-04-02 09:45:35        268   \n",
        "2015-04-02 16:13:19 2015-04-02 16:13:19          0   \n",
        "2015-04-02 06:09:09 2015-04-02 06:09:09        147   \n",
        "2015-04-02 18:20:46 2015-04-02 18:20:46         26   \n",
        "2015-04-02 23:13:31 2015-04-02 23:13:31          1   \n",
        "2015-04-02 18:50:42 2015-04-02 18:50:42         64   \n",
        "2015-04-02 15:31:39 2015-04-02 15:31:39         51   \n",
        "2015-04-02 23:14:18 2015-04-02 23:14:18          0   \n",
        "2015-04-02 13:24:00 2015-04-02 13:24:00        255   \n",
        "2015-04-02 23:14:22 2015-04-02 23:14:22          0   \n",
        "2015-04-02 23:15:26 2015-04-02 23:15:26          0   \n",
        "2015-04-02 12:53:48 2015-04-02 12:53:48        137   \n",
        "2015-04-02 04:43:44 2015-04-02 04:43:44         94   \n",
        "2015-04-02 14:51:50 2015-04-02 14:51:50        301   \n",
        "2015-04-02 12:34:47 2015-04-02 12:34:47         57   \n",
        "2015-04-02 14:17:25 2015-04-02 14:17:25        357   \n",
        "...                                 ...        ...   \n",
        "2015-04-02 15:13:26 2015-04-02 15:13:26        215   \n",
        "2015-04-02 13:33:28 2015-04-02 13:33:28         41   \n",
        "2015-04-02 23:11:37 2015-04-02 23:11:37          0   \n",
        "2015-04-02 12:43:34 2015-04-02 12:43:34        249   \n",
        "2015-04-02 23:08:36 2015-04-02 23:08:36          0   \n",
        "2015-04-02 19:04:37 2015-04-02 19:04:37         22   \n",
        "2015-04-02 14:48:31 2015-04-02 14:48:31        539   \n",
        "2015-04-02 12:48:13 2015-04-02 12:48:13        183   \n",
        "2015-04-02 18:34:50 2015-04-02 18:34:50        244   \n",
        "2015-04-02 13:05:17 2015-04-02 13:05:17        143   \n",
        "2015-04-02 14:33:38 2015-04-02 14:33:38        247   \n",
        "2015-04-02 12:55:44 2015-04-02 12:55:44        273   \n",
        "2015-04-02 23:08:17 2015-04-02 23:08:17          0   \n",
        "2015-04-02 12:40:35 2015-04-02 12:40:35        243   \n",
        "2015-04-02 16:55:34 2015-04-02 16:55:34        213   \n",
        "2015-04-02 23:12:37 2015-04-02 23:12:37          0   \n",
        "2015-04-02 12:59:18 2015-04-02 12:59:18        151   \n",
        "2015-04-02 23:13:01 2015-04-02 23:13:01          0   \n",
        "2015-04-02 23:15:12 2015-04-02 23:15:12          0   \n",
        "2015-04-02 17:18:39 2015-04-02 17:18:39        115   \n",
        "2015-04-02 17:30:34 2015-04-02 17:30:34         67   \n",
        "2015-04-02 23:14:41 2015-04-02 23:14:41          0   \n",
        "2015-04-02 18:30:15 2015-04-02 18:30:15          3   \n",
        "2015-04-02 23:14:46 2015-04-02 23:14:46          0   \n",
        "2015-04-02 10:31:58 2015-04-02 10:31:58         84   \n",
        "2015-04-02 14:26:38 2015-04-02 14:26:38        134   \n",
        "2015-04-02 08:10:08 2015-04-02 08:10:08         47   \n",
        "2015-04-02 16:02:22 2015-04-02 16:02:22        112   \n",
        "2015-04-02 02:51:58 2015-04-02 02:51:58        109   \n",
        "2015-04-02 13:54:41 2015-04-02 13:54:41        354   \n",
        "\n",
        "                                                                 title  \\\n",
        "2015-04-02 21:13:06  So I got to benchmark a $1,000,000 all-SSD SAN...   \n",
        "2015-04-02 23:14:35  Are people with Aspergers aware of what's goin...   \n",
        "2015-04-02 11:26:32  Does the human brain operate like an algorithm...   \n",
        "2015-04-02 23:08:23       [PM] I'm Writing a story... : WritingPrompts   \n",
        "2015-04-02 16:24:07  Escape from The Maze (2009) The Maze Prison in...   \n",
        "2015-04-02 15:32:03  Submitted this to my local sub and was told to...   \n",
        "2015-04-02 13:06:21  Live at Paradise! Canton of Bern, Switzerland ...   \n",
        "2015-04-02 16:40:09  The Illusion of Qualia. I'd be interested to h...   \n",
        "2015-04-02 16:15:39  Earth receiving mysterious radio signals from ...   \n",
        "2015-04-02 13:47:43           I left her alone for 10 seconds... : aww   \n",
        "2015-04-02 17:16:05  These paving stones have been put back wrong (...   \n",
        "2015-04-02 16:27:39  Saw this in the library at my college today. N...   \n",
        "2015-04-02 08:14:42  [WP] As a joke, you scream 'HELP!' in your hea...   \n",
        "2015-04-02 14:23:55              That's a bold move, Cotton... : funny   \n",
        "2015-04-02 09:45:35  My 7-year-old nephew showed me with pride the ...   \n",
        "2015-04-02 16:13:19  Pierre Jacob gives a talk on &quot;What's so S...   \n",
        "2015-04-02 06:09:09                   Jupiter in 1879 and 2014 : space   \n",
        "2015-04-02 18:20:46  PsBattle: Daniel Radcliffe's first promo shot ...   \n",
        "2015-04-02 23:13:31                      What flavor is glass? : funny   \n",
        "2015-04-02 18:50:42  Terror attack over, 147 dead at Kenya universi...   \n",
        "2015-04-02 15:31:39  NASA Selects Companies to Develop Super-Fast D...   \n",
        "2015-04-02 23:14:18          What is your irrational fear? : AskReddit   \n",
        "2015-04-02 13:24:00  Testing my office's strict dress code. I'll gr...   \n",
        "2015-04-02 23:14:22             In the sea of college peers... : funny   \n",
        "2015-04-02 23:15:26  After all these years....I've finally beat Mik...   \n",
        "2015-04-02 12:53:48  TIL the Shogun who ruled Japan 1680\u20131709 intro...   \n",
        "2015-04-02 04:43:44  Intact Ottoman 'war camel' found in Austrian c...   \n",
        "2015-04-02 14:51:50  Rick Astley - Lights Out [Blue-Eyed Soul] *Fir...   \n",
        "2015-04-02 12:34:47  Life happens at the molecular level: Watch ani...   \n",
        "2015-04-02 14:17:25    Some updates to the Legendary catalog. : gaming   \n",
        "...                                                                ...   \n",
        "2015-04-02 15:13:26                      The voice of Pikachu : videos   \n",
        "2015-04-02 13:33:28  Noise generator. Just listen to white noise. r...   \n",
        "2015-04-02 23:11:37         I had Shepherd's pie for dinner... : Jokes   \n",
        "2015-04-02 12:43:34  People who were around before the Internet, wh...   \n",
        "2015-04-02 23:08:36  Idea for a gay bar name: large hardon collider...   \n",
        "2015-04-02 19:04:37  Sim Bhullar becomes first player of Indian des...   \n",
        "2015-04-02 14:48:31                 This still exists in 2015 : videos   \n",
        "2015-04-02 12:48:13  Every spring, the Goose King returns to his th...   \n",
        "2015-04-02 18:34:50        This duck likes to sit on his behind : pics   \n",
        "2015-04-02 13:05:17  Panda cub needs help coming down from a tree. ...   \n",
        "2015-04-02 14:33:38  ELI5: How does the United States run on a defi...   \n",
        "2015-04-02 12:55:44  Indiana Pizzeria Closes Over Backlash From Own...   \n",
        "2015-04-02 23:08:17  Jesus has a 3-day respawn timer. : Showerthoughts   \n",
        "2015-04-02 12:40:35  Our waiter balanced forks on toothpicks : mild...   \n",
        "2015-04-02 16:55:34  Tom Hardy Says He's Attached To 3 More 'Mad Ma...   \n",
        "2015-04-02 23:12:37  A jaguar and a panther napping together at Che...   \n",
        "2015-04-02 12:59:18  Bill bans fake guns - not real ones - near Ten...   \n",
        "2015-04-02 23:13:01  Why is the Fast and Furious franchise more lik...   \n",
        "2015-04-02 23:15:12                                   BOOSHH... : gifs   \n",
        "2015-04-02 17:18:39  LPT: Get a discount EVERY TIME you shop at maj...   \n",
        "2015-04-02 17:30:34  The Norwegians have made a sport out of belly ...   \n",
        "2015-04-02 23:14:41  TIL that after Erasure released an EP of Abba ...   \n",
        "2015-04-02 18:30:15                          Mayhem Mountain : nosleep   \n",
        "2015-04-02 23:14:46  I was out and about when I saw my ex girlfrien...   \n",
        "2015-04-02 10:31:58                             Baby fennec fox. : aww   \n",
        "2015-04-02 14:26:38  I found a shoe lace in my Chips ahoy : mildlyi...   \n",
        "2015-04-02 08:10:08  Found a video camera in a hidden room in my cl...   \n",
        "2015-04-02 16:02:22  Price Is Right model gives away a car by mista...   \n",
        "2015-04-02 02:51:58  The hardest song ever to grace a childrens mov...   \n",
        "2015-04-02 13:54:41  \u201cA reader lives a thousand lives before he die...   \n",
        "\n",
        "                     upvotes  \n",
        "2015-04-02 21:13:06       63  \n",
        "2015-04-02 23:14:35        0  \n",
        "2015-04-02 11:26:32     1407  \n",
        "2015-04-02 23:08:23        1  \n",
        "2015-04-02 16:24:07      244  \n",
        "2015-04-02 15:32:03     3257  \n",
        "2015-04-02 13:06:21      580  \n",
        "2015-04-02 16:40:09       14  \n",
        "2015-04-02 16:15:39      258  \n",
        "2015-04-02 13:47:43     3337  \n",
        "2015-04-02 17:16:05      823  \n",
        "2015-04-02 16:27:39     1929  \n",
        "2015-04-02 08:14:42     1765  \n",
        "2015-04-02 14:23:55     3240  \n",
        "2015-04-02 09:45:35     3567  \n",
        "2015-04-02 16:13:19        3  \n",
        "2015-04-02 06:09:09     4759  \n",
        "2015-04-02 18:20:46      218  \n",
        "2015-04-02 23:13:31        3  \n",
        "2015-04-02 18:50:42      859  \n",
        "2015-04-02 15:31:39      969  \n",
        "2015-04-02 23:14:18        0  \n",
        "2015-04-02 13:24:00     4007  \n",
        "2015-04-02 23:14:22        0  \n",
        "2015-04-02 23:15:26        0  \n",
        "2015-04-02 12:53:48     2609  \n",
        "2015-04-02 04:43:44     1089  \n",
        "2015-04-02 14:51:50     3046  \n",
        "2015-04-02 12:34:47      585  \n",
        "2015-04-02 14:17:25     1344  \n",
        "...                      ...  \n",
        "2015-04-02 15:13:26     1442  \n",
        "2015-04-02 13:33:28      233  \n",
        "2015-04-02 23:11:37        1  \n",
        "2015-04-02 12:43:34     2020  \n",
        "2015-04-02 23:08:36        0  \n",
        "2015-04-02 19:04:37      115  \n",
        "2015-04-02 14:48:31     2830  \n",
        "2015-04-02 12:48:13     4411  \n",
        "2015-04-02 18:34:50     4639  \n",
        "2015-04-02 13:05:17     4635  \n",
        "2015-04-02 14:33:38     2000  \n",
        "2015-04-02 12:55:44     2457  \n",
        "2015-04-02 23:08:17        2  \n",
        "2015-04-02 12:40:35     3813  \n",
        "2015-04-02 16:55:34     3347  \n",
        "2015-04-02 23:12:37        3  \n",
        "2015-04-02 12:59:18     1114  \n",
        "2015-04-02 23:13:01        0  \n",
        "2015-04-02 23:15:12        0  \n",
        "2015-04-02 17:18:39      932  \n",
        "2015-04-02 17:30:34      227  \n",
        "2015-04-02 23:14:41        2  \n",
        "2015-04-02 18:30:15       87  \n",
        "2015-04-02 23:14:46        1  \n",
        "2015-04-02 10:31:58     2733  \n",
        "2015-04-02 14:26:38     1354  \n",
        "2015-04-02 08:10:08      349  \n",
        "2015-04-02 16:02:22     1762  \n",
        "2015-04-02 02:51:58     1456  \n",
        "2015-04-02 13:54:41     3188  \n",
        "\n",
        "[162 rows x 4 columns]\n"
       ]
      }
     ],
     "prompt_number": 31
    },
    {
     "cell_type": "code",
     "collapsed": false,
     "input": [
      "df.sort('date', inplace=True)\n",
      "df['upvotes'].plot(c='g')\n",
      "df['downvotes'].plot(c='r')\n",
      "(df['upvotes'] - df['downvotes']).plot(c='k')\n"
     ],
     "language": "python",
     "metadata": {},
     "outputs": [
      {
       "metadata": {},
       "output_type": "pyout",
       "prompt_number": 32,
       "text": [
        "<matplotlib.axes._subplots.AxesSubplot at 0x1038d4c90>"
       ]
      },
      {
       "metadata": {},
       "output_type": "display_data",
       "png": "[encoded data removed]",
       "text": [
        "<matplotlib.figure.Figure at 0x109b20d10>"
       ]
      }
     ],
     "prompt_number": 32
    },
    {
     "cell_type": "code",
     "collapsed": false,
     "input": [],
     "language": "python",
     "metadata": {},
     "outputs": [],
     "prompt_number": 6
    }
   ],
   "metadata": {}
  }
 ]
}